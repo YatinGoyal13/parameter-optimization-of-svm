{
 "cells": [
  {
   "cell_type": "code",
   "execution_count": 7,
   "metadata": {},
   "outputs": [],
   "source": [
    "import pandas as pd\n",
    "from sklearn import svm\n",
    "from sklearn.model_selection import train_test_split\n",
    "import numpy as np\n",
    "import matplotlib.pyplot as plt\n",
    "import random\n",
    "import os, sys, time, threading, multiprocessing"
   ]
  },
  {
   "cell_type": "code",
   "execution_count": 2,
   "metadata": {},
   "outputs": [
    {
     "data": {
      "text/html": [
       "<div>\n",
       "<style scoped>\n",
       "    .dataframe tbody tr th:only-of-type {\n",
       "        vertical-align: middle;\n",
       "    }\n",
       "\n",
       "    .dataframe tbody tr th {\n",
       "        vertical-align: top;\n",
       "    }\n",
       "\n",
       "    .dataframe thead th {\n",
       "        text-align: right;\n",
       "    }\n",
       "</style>\n",
       "<table border=\"1\" class=\"dataframe\">\n",
       "  <thead>\n",
       "    <tr style=\"text-align: right;\">\n",
       "      <th></th>\n",
       "      <th>0</th>\n",
       "      <th>1</th>\n",
       "      <th>2</th>\n",
       "      <th>3</th>\n",
       "      <th>4</th>\n",
       "      <th>5</th>\n",
       "      <th>6</th>\n",
       "    </tr>\n",
       "  </thead>\n",
       "  <tbody>\n",
       "    <tr>\n",
       "      <th>0</th>\n",
       "      <td>a</td>\n",
       "      <td>1</td>\n",
       "      <td>b</td>\n",
       "      <td>3</td>\n",
       "      <td>c</td>\n",
       "      <td>2</td>\n",
       "      <td>draw</td>\n",
       "    </tr>\n",
       "    <tr>\n",
       "      <th>1</th>\n",
       "      <td>a</td>\n",
       "      <td>1</td>\n",
       "      <td>c</td>\n",
       "      <td>1</td>\n",
       "      <td>c</td>\n",
       "      <td>2</td>\n",
       "      <td>draw</td>\n",
       "    </tr>\n",
       "    <tr>\n",
       "      <th>2</th>\n",
       "      <td>a</td>\n",
       "      <td>1</td>\n",
       "      <td>c</td>\n",
       "      <td>1</td>\n",
       "      <td>d</td>\n",
       "      <td>1</td>\n",
       "      <td>draw</td>\n",
       "    </tr>\n",
       "    <tr>\n",
       "      <th>3</th>\n",
       "      <td>a</td>\n",
       "      <td>1</td>\n",
       "      <td>c</td>\n",
       "      <td>1</td>\n",
       "      <td>d</td>\n",
       "      <td>2</td>\n",
       "      <td>draw</td>\n",
       "    </tr>\n",
       "    <tr>\n",
       "      <th>4</th>\n",
       "      <td>a</td>\n",
       "      <td>1</td>\n",
       "      <td>c</td>\n",
       "      <td>2</td>\n",
       "      <td>c</td>\n",
       "      <td>1</td>\n",
       "      <td>draw</td>\n",
       "    </tr>\n",
       "  </tbody>\n",
       "</table>\n",
       "</div>"
      ],
      "text/plain": [
       "   0  1  2  3  4  5     6\n",
       "0  a  1  b  3  c  2  draw\n",
       "1  a  1  c  1  c  2  draw\n",
       "2  a  1  c  1  d  1  draw\n",
       "3  a  1  c  1  d  2  draw\n",
       "4  a  1  c  2  c  1  draw"
      ]
     },
     "execution_count": 2,
     "metadata": {},
     "output_type": "execute_result"
    }
   ],
   "source": [
    "df= pd.read_csv(\"krkopt.data\", header= None)\n",
    "df.head()"
   ]
  },
  {
   "cell_type": "code",
   "execution_count": 3,
   "metadata": {},
   "outputs": [],
   "source": [
    "df[0].replace(['a','b','c','d','e','f','g','h'],[8,7,6,5, 4 ,3 ,2 , 1], inplace=True)\n",
    "\n",
    "df[2].replace(['a','b','c','d','e','f','g','h'],[8,7,6,5, 4 ,3 ,2 , 1], inplace=True)\n",
    "df[4].replace(['a','b','c','d','e','f','g','h'],[8,7,6,5, 4 ,3 ,2 , 1], inplace=True)"
   ]
  },
  {
   "cell_type": "code",
   "execution_count": 24,
   "metadata": {},
   "outputs": [],
   "source": [
    "samples = []\n",
    "for i in range(40):\n",
    "    X_train, X_test, y_train, y_test = train_test_split(df.iloc[:, :-1], df.iloc[:, -1], test_size=0.3)\n",
    "    samples.append((X_train, X_test, y_train, y_test))"
   ]
  },
  {
   "cell_type": "code",
   "execution_count": 32,
   "metadata": {},
   "outputs": [],
   "source": [
    "samples\n",
    "accuracies = []\n",
    "accuracies2=[]"
   ]
  },
  {
   "cell_type": "code",
   "execution_count": 40,
   "metadata": {},
   "outputs": [],
   "source": [
    "def task(cmd):\n",
    "    iteration= 2\n",
    "    bestAccuracy=0\n",
    "    kernelList = ['linear','rbf', 'sigmoid']\n",
    "    X_train, X_test, y_train, y_test = cmd\n",
    "    for j in range(1, iteration+1):\n",
    "            print(\"iteration \",j)\n",
    "            kernel= np.random.choice(kernelList)\n",
    "            c = np.random.uniform(0,10)\n",
    "            gamma = np.random.uniform(0, 10)\n",
    "            print(kernel , c, gamma)\n",
    "            model= svm.SVC( C= c, kernel= kernel, gamma=gamma)\n",
    "            model.fit(X_train, y_train)\n",
    "            print(\"fit\")\n",
    "            predicted = model.predict(X_test)\n",
    "            accuracy = round(np.mean(y_test == predicted) * 100, 2)\n",
    "            if accuracy > bestAccuracy:\n",
    "                bestAccuracy = accuracy\n",
    "    accuracies.append(bestAccuracy)\n",
    "               \n",
    "                \n",
    "    "
   ]
  },
  {
   "cell_type": "code",
   "execution_count": 41,
   "metadata": {},
   "outputs": [
    {
     "name": "stderr",
     "output_type": "stream",
     "text": [
      "/var/folders/4m/1wz16rw93fx6w7w3zg7q2dm80000gn/T/ipykernel_15026/2207792410.py:6: DeprecationWarning: activeCount() is deprecated, use active_count() instead\n",
      "  activeThreads = threading.activeCount()\n",
      "/var/folders/4m/1wz16rw93fx6w7w3zg7q2dm80000gn/T/ipykernel_15026/2207792410.py:10: DeprecationWarning: activeCount() is deprecated, use active_count() instead\n",
      "  activeThreads = threading.activeCount()\n",
      "/var/folders/4m/1wz16rw93fx6w7w3zg7q2dm80000gn/T/ipykernel_15026/2207792410.py:20: DeprecationWarning: activeCount() is deprecated, use active_count() instead\n",
      "  if threading.activeCount() - activeThreads + 1 <= k+1:\n"
     ]
    },
    {
     "name": "stdout",
     "output_type": "stream",
     "text": [
      "Iterating on sample  1\n",
      "iteration  1\n",
      "rbf 8.818006584177535 4.624071800203911\n"
     ]
    },
    {
     "name": "stderr",
     "output_type": "stream",
     "text": [
      "/var/folders/4m/1wz16rw93fx6w7w3zg7q2dm80000gn/T/ipykernel_15026/2207792410.py:20: DeprecationWarning: activeCount() is deprecated, use active_count() instead\n",
      "  if threading.activeCount() - activeThreads + 1 <= k+1:\n"
     ]
    },
    {
     "name": "stdout",
     "output_type": "stream",
     "text": [
      "fit\n"
     ]
    },
    {
     "name": "stderr",
     "output_type": "stream",
     "text": [
      "/var/folders/4m/1wz16rw93fx6w7w3zg7q2dm80000gn/T/ipykernel_15026/2207792410.py:20: DeprecationWarning: activeCount() is deprecated, use active_count() instead\n",
      "  if threading.activeCount() - activeThreads + 1 <= k+1:\n"
     ]
    },
    {
     "name": "stdout",
     "output_type": "stream",
     "text": [
      "iteration  2\n",
      "rbf 6.90493294375279 1.5113386110336868\n"
     ]
    },
    {
     "name": "stderr",
     "output_type": "stream",
     "text": [
      "/var/folders/4m/1wz16rw93fx6w7w3zg7q2dm80000gn/T/ipykernel_15026/2207792410.py:20: DeprecationWarning: activeCount() is deprecated, use active_count() instead\n",
      "  if threading.activeCount() - activeThreads + 1 <= k+1:\n"
     ]
    },
    {
     "name": "stdout",
     "output_type": "stream",
     "text": [
      "fit\n"
     ]
    },
    {
     "name": "stderr",
     "output_type": "stream",
     "text": [
      "/var/folders/4m/1wz16rw93fx6w7w3zg7q2dm80000gn/T/ipykernel_15026/2207792410.py:20: DeprecationWarning: activeCount() is deprecated, use active_count() instead\n",
      "  if threading.activeCount() - activeThreads + 1 <= k+1:\n"
     ]
    },
    {
     "name": "stdout",
     "output_type": "stream",
     "text": [
      "Iterating on sample  2\n",
      "iteration  1\n",
      "rbf 5.533130841468941 7.867120390877849\n"
     ]
    },
    {
     "name": "stderr",
     "output_type": "stream",
     "text": [
      "/var/folders/4m/1wz16rw93fx6w7w3zg7q2dm80000gn/T/ipykernel_15026/2207792410.py:20: DeprecationWarning: activeCount() is deprecated, use active_count() instead\n",
      "  if threading.activeCount() - activeThreads + 1 <= k+1:\n",
      "/var/folders/4m/1wz16rw93fx6w7w3zg7q2dm80000gn/T/ipykernel_15026/2207792410.py:20: DeprecationWarning: activeCount() is deprecated, use active_count() instead\n",
      "  if threading.activeCount() - activeThreads + 1 <= k+1:\n"
     ]
    },
    {
     "name": "stdout",
     "output_type": "stream",
     "text": [
      "fit\n"
     ]
    },
    {
     "name": "stderr",
     "output_type": "stream",
     "text": [
      "/var/folders/4m/1wz16rw93fx6w7w3zg7q2dm80000gn/T/ipykernel_15026/2207792410.py:20: DeprecationWarning: activeCount() is deprecated, use active_count() instead\n",
      "  if threading.activeCount() - activeThreads + 1 <= k+1:\n"
     ]
    },
    {
     "name": "stdout",
     "output_type": "stream",
     "text": [
      "iteration  2\n",
      "sigmoid 6.414325497378609 2.661328433833805\n"
     ]
    },
    {
     "name": "stderr",
     "output_type": "stream",
     "text": [
      "/var/folders/4m/1wz16rw93fx6w7w3zg7q2dm80000gn/T/ipykernel_15026/2207792410.py:20: DeprecationWarning: activeCount() is deprecated, use active_count() instead\n",
      "  if threading.activeCount() - activeThreads + 1 <= k+1:\n"
     ]
    },
    {
     "name": "stdout",
     "output_type": "stream",
     "text": [
      "fit\n"
     ]
    },
    {
     "name": "stderr",
     "output_type": "stream",
     "text": [
      "/var/folders/4m/1wz16rw93fx6w7w3zg7q2dm80000gn/T/ipykernel_15026/2207792410.py:20: DeprecationWarning: activeCount() is deprecated, use active_count() instead\n",
      "  if threading.activeCount() - activeThreads + 1 <= k+1:\n"
     ]
    },
    {
     "name": "stdout",
     "output_type": "stream",
     "text": [
      "Iterating on sample  3\n",
      "iteration  1\n",
      "linear 4.555884768572441 7.9237763757754305\n"
     ]
    },
    {
     "name": "stderr",
     "output_type": "stream",
     "text": [
      "/var/folders/4m/1wz16rw93fx6w7w3zg7q2dm80000gn/T/ipykernel_15026/2207792410.py:20: DeprecationWarning: activeCount() is deprecated, use active_count() instead\n",
      "  if threading.activeCount() - activeThreads + 1 <= k+1:\n",
      "/var/folders/4m/1wz16rw93fx6w7w3zg7q2dm80000gn/T/ipykernel_15026/2207792410.py:20: DeprecationWarning: activeCount() is deprecated, use active_count() instead\n",
      "  if threading.activeCount() - activeThreads + 1 <= k+1:\n"
     ]
    },
    {
     "name": "stdout",
     "output_type": "stream",
     "text": [
      "fit\n"
     ]
    },
    {
     "name": "stderr",
     "output_type": "stream",
     "text": [
      "/var/folders/4m/1wz16rw93fx6w7w3zg7q2dm80000gn/T/ipykernel_15026/2207792410.py:20: DeprecationWarning: activeCount() is deprecated, use active_count() instead\n",
      "  if threading.activeCount() - activeThreads + 1 <= k+1:\n"
     ]
    },
    {
     "name": "stdout",
     "output_type": "stream",
     "text": [
      "iteration  2\n",
      "linear 8.591818438807575 6.856643579835683\n"
     ]
    },
    {
     "name": "stderr",
     "output_type": "stream",
     "text": [
      "/var/folders/4m/1wz16rw93fx6w7w3zg7q2dm80000gn/T/ipykernel_15026/2207792410.py:20: DeprecationWarning: activeCount() is deprecated, use active_count() instead\n",
      "  if threading.activeCount() - activeThreads + 1 <= k+1:\n"
     ]
    },
    {
     "name": "stdout",
     "output_type": "stream",
     "text": [
      "fit\n"
     ]
    },
    {
     "name": "stderr",
     "output_type": "stream",
     "text": [
      "/var/folders/4m/1wz16rw93fx6w7w3zg7q2dm80000gn/T/ipykernel_15026/2207792410.py:20: DeprecationWarning: activeCount() is deprecated, use active_count() instead\n",
      "  if threading.activeCount() - activeThreads + 1 <= k+1:\n",
      "/var/folders/4m/1wz16rw93fx6w7w3zg7q2dm80000gn/T/ipykernel_15026/2207792410.py:20: DeprecationWarning: activeCount() is deprecated, use active_count() instead\n",
      "  if threading.activeCount() - activeThreads + 1 <= k+1:\n"
     ]
    },
    {
     "name": "stdout",
     "output_type": "stream",
     "text": [
      "Iterating on sample  4\n",
      "iteration  1\n",
      "rbf 5.704803717048 5.061063842644077\n"
     ]
    },
    {
     "name": "stderr",
     "output_type": "stream",
     "text": [
      "/var/folders/4m/1wz16rw93fx6w7w3zg7q2dm80000gn/T/ipykernel_15026/2207792410.py:20: DeprecationWarning: activeCount() is deprecated, use active_count() instead\n",
      "  if threading.activeCount() - activeThreads + 1 <= k+1:\n"
     ]
    },
    {
     "name": "stdout",
     "output_type": "stream",
     "text": [
      "fit\n"
     ]
    },
    {
     "name": "stderr",
     "output_type": "stream",
     "text": [
      "/var/folders/4m/1wz16rw93fx6w7w3zg7q2dm80000gn/T/ipykernel_15026/2207792410.py:20: DeprecationWarning: activeCount() is deprecated, use active_count() instead\n",
      "  if threading.activeCount() - activeThreads + 1 <= k+1:\n"
     ]
    },
    {
     "name": "stdout",
     "output_type": "stream",
     "text": [
      "iteration  2\n",
      "rbf 1.3785245060029905 6.362371311026202\n"
     ]
    },
    {
     "name": "stderr",
     "output_type": "stream",
     "text": [
      "/var/folders/4m/1wz16rw93fx6w7w3zg7q2dm80000gn/T/ipykernel_15026/2207792410.py:20: DeprecationWarning: activeCount() is deprecated, use active_count() instead\n",
      "  if threading.activeCount() - activeThreads + 1 <= k+1:\n"
     ]
    },
    {
     "name": "stdout",
     "output_type": "stream",
     "text": [
      "fit\n"
     ]
    },
    {
     "name": "stderr",
     "output_type": "stream",
     "text": [
      "/var/folders/4m/1wz16rw93fx6w7w3zg7q2dm80000gn/T/ipykernel_15026/2207792410.py:20: DeprecationWarning: activeCount() is deprecated, use active_count() instead\n",
      "  if threading.activeCount() - activeThreads + 1 <= k+1:\n"
     ]
    },
    {
     "name": "stdout",
     "output_type": "stream",
     "text": [
      "Iterating on sample  5\n",
      "iteration  1\n",
      "linear 1.0401094609574668 8.342067629876723\n"
     ]
    },
    {
     "name": "stderr",
     "output_type": "stream",
     "text": [
      "/var/folders/4m/1wz16rw93fx6w7w3zg7q2dm80000gn/T/ipykernel_15026/2207792410.py:20: DeprecationWarning: activeCount() is deprecated, use active_count() instead\n",
      "  if threading.activeCount() - activeThreads + 1 <= k+1:\n",
      "/var/folders/4m/1wz16rw93fx6w7w3zg7q2dm80000gn/T/ipykernel_15026/2207792410.py:20: DeprecationWarning: activeCount() is deprecated, use active_count() instead\n",
      "  if threading.activeCount() - activeThreads + 1 <= k+1:\n"
     ]
    },
    {
     "name": "stdout",
     "output_type": "stream",
     "text": [
      "fit\n"
     ]
    },
    {
     "name": "stderr",
     "output_type": "stream",
     "text": [
      "/var/folders/4m/1wz16rw93fx6w7w3zg7q2dm80000gn/T/ipykernel_15026/2207792410.py:20: DeprecationWarning: activeCount() is deprecated, use active_count() instead\n",
      "  if threading.activeCount() - activeThreads + 1 <= k+1:\n"
     ]
    },
    {
     "name": "stdout",
     "output_type": "stream",
     "text": [
      "iteration  2\n",
      "linear 1.9942210267649407 9.033619608525797\n"
     ]
    },
    {
     "name": "stderr",
     "output_type": "stream",
     "text": [
      "/var/folders/4m/1wz16rw93fx6w7w3zg7q2dm80000gn/T/ipykernel_15026/2207792410.py:20: DeprecationWarning: activeCount() is deprecated, use active_count() instead\n",
      "  if threading.activeCount() - activeThreads + 1 <= k+1:\n"
     ]
    },
    {
     "name": "stdout",
     "output_type": "stream",
     "text": [
      "fit\n"
     ]
    },
    {
     "name": "stderr",
     "output_type": "stream",
     "text": [
      "/var/folders/4m/1wz16rw93fx6w7w3zg7q2dm80000gn/T/ipykernel_15026/2207792410.py:20: DeprecationWarning: activeCount() is deprecated, use active_count() instead\n",
      "  if threading.activeCount() - activeThreads + 1 <= k+1:\n"
     ]
    },
    {
     "name": "stdout",
     "output_type": "stream",
     "text": [
      "Iterating on sample  6\n",
      "iteration  1\n",
      "rbf 7.957784377936087 1.4112558063206593\n"
     ]
    },
    {
     "name": "stderr",
     "output_type": "stream",
     "text": [
      "/var/folders/4m/1wz16rw93fx6w7w3zg7q2dm80000gn/T/ipykernel_15026/2207792410.py:20: DeprecationWarning: activeCount() is deprecated, use active_count() instead\n",
      "  if threading.activeCount() - activeThreads + 1 <= k+1:\n",
      "/var/folders/4m/1wz16rw93fx6w7w3zg7q2dm80000gn/T/ipykernel_15026/2207792410.py:20: DeprecationWarning: activeCount() is deprecated, use active_count() instead\n",
      "  if threading.activeCount() - activeThreads + 1 <= k+1:\n"
     ]
    },
    {
     "name": "stdout",
     "output_type": "stream",
     "text": [
      "fit\n"
     ]
    },
    {
     "name": "stderr",
     "output_type": "stream",
     "text": [
      "/var/folders/4m/1wz16rw93fx6w7w3zg7q2dm80000gn/T/ipykernel_15026/2207792410.py:20: DeprecationWarning: activeCount() is deprecated, use active_count() instead\n",
      "  if threading.activeCount() - activeThreads + 1 <= k+1:\n"
     ]
    },
    {
     "name": "stdout",
     "output_type": "stream",
     "text": [
      "iteration  2\n",
      "sigmoid 6.047793677973417 8.306370619204714\n"
     ]
    },
    {
     "name": "stderr",
     "output_type": "stream",
     "text": [
      "/var/folders/4m/1wz16rw93fx6w7w3zg7q2dm80000gn/T/ipykernel_15026/2207792410.py:20: DeprecationWarning: activeCount() is deprecated, use active_count() instead\n",
      "  if threading.activeCount() - activeThreads + 1 <= k+1:\n"
     ]
    },
    {
     "name": "stdout",
     "output_type": "stream",
     "text": [
      "fit\n"
     ]
    },
    {
     "name": "stderr",
     "output_type": "stream",
     "text": [
      "/var/folders/4m/1wz16rw93fx6w7w3zg7q2dm80000gn/T/ipykernel_15026/2207792410.py:20: DeprecationWarning: activeCount() is deprecated, use active_count() instead\n",
      "  if threading.activeCount() - activeThreads + 1 <= k+1:\n"
     ]
    },
    {
     "name": "stdout",
     "output_type": "stream",
     "text": [
      "Iterating on sample  7\n",
      "iteration  1\n",
      "rbf 2.920401814679956 6.269724771143431\n"
     ]
    },
    {
     "name": "stderr",
     "output_type": "stream",
     "text": [
      "/var/folders/4m/1wz16rw93fx6w7w3zg7q2dm80000gn/T/ipykernel_15026/2207792410.py:20: DeprecationWarning: activeCount() is deprecated, use active_count() instead\n",
      "  if threading.activeCount() - activeThreads + 1 <= k+1:\n",
      "/var/folders/4m/1wz16rw93fx6w7w3zg7q2dm80000gn/T/ipykernel_15026/2207792410.py:20: DeprecationWarning: activeCount() is deprecated, use active_count() instead\n",
      "  if threading.activeCount() - activeThreads + 1 <= k+1:\n"
     ]
    },
    {
     "name": "stdout",
     "output_type": "stream",
     "text": [
      "fit\n"
     ]
    },
    {
     "name": "stderr",
     "output_type": "stream",
     "text": [
      "/var/folders/4m/1wz16rw93fx6w7w3zg7q2dm80000gn/T/ipykernel_15026/2207792410.py:20: DeprecationWarning: activeCount() is deprecated, use active_count() instead\n",
      "  if threading.activeCount() - activeThreads + 1 <= k+1:\n"
     ]
    },
    {
     "name": "stdout",
     "output_type": "stream",
     "text": [
      "iteration  2\n",
      "linear 6.917812338776449 7.216856249252915\n"
     ]
    },
    {
     "name": "stderr",
     "output_type": "stream",
     "text": [
      "/var/folders/4m/1wz16rw93fx6w7w3zg7q2dm80000gn/T/ipykernel_15026/2207792410.py:20: DeprecationWarning: activeCount() is deprecated, use active_count() instead\n",
      "  if threading.activeCount() - activeThreads + 1 <= k+1:\n"
     ]
    },
    {
     "name": "stdout",
     "output_type": "stream",
     "text": [
      "fit\n"
     ]
    },
    {
     "name": "stderr",
     "output_type": "stream",
     "text": [
      "/var/folders/4m/1wz16rw93fx6w7w3zg7q2dm80000gn/T/ipykernel_15026/2207792410.py:20: DeprecationWarning: activeCount() is deprecated, use active_count() instead\n",
      "  if threading.activeCount() - activeThreads + 1 <= k+1:\n"
     ]
    },
    {
     "name": "stdout",
     "output_type": "stream",
     "text": [
      "Iterating on sample  8\n",
      "iteration  1\n",
      "rbf 4.05481794655577 2.910574831609163\n"
     ]
    },
    {
     "name": "stderr",
     "output_type": "stream",
     "text": [
      "/var/folders/4m/1wz16rw93fx6w7w3zg7q2dm80000gn/T/ipykernel_15026/2207792410.py:20: DeprecationWarning: activeCount() is deprecated, use active_count() instead\n",
      "  if threading.activeCount() - activeThreads + 1 <= k+1:\n",
      "/var/folders/4m/1wz16rw93fx6w7w3zg7q2dm80000gn/T/ipykernel_15026/2207792410.py:20: DeprecationWarning: activeCount() is deprecated, use active_count() instead\n",
      "  if threading.activeCount() - activeThreads + 1 <= k+1:\n"
     ]
    },
    {
     "name": "stdout",
     "output_type": "stream",
     "text": [
      "fit\n"
     ]
    },
    {
     "name": "stderr",
     "output_type": "stream",
     "text": [
      "/var/folders/4m/1wz16rw93fx6w7w3zg7q2dm80000gn/T/ipykernel_15026/2207792410.py:20: DeprecationWarning: activeCount() is deprecated, use active_count() instead\n",
      "  if threading.activeCount() - activeThreads + 1 <= k+1:\n"
     ]
    },
    {
     "name": "stdout",
     "output_type": "stream",
     "text": [
      "iteration  2\n",
      "sigmoid 9.543135515632326 4.945187409751238\n"
     ]
    },
    {
     "name": "stderr",
     "output_type": "stream",
     "text": [
      "/var/folders/4m/1wz16rw93fx6w7w3zg7q2dm80000gn/T/ipykernel_15026/2207792410.py:20: DeprecationWarning: activeCount() is deprecated, use active_count() instead\n",
      "  if threading.activeCount() - activeThreads + 1 <= k+1:\n"
     ]
    },
    {
     "name": "stdout",
     "output_type": "stream",
     "text": [
      "fit\n"
     ]
    },
    {
     "name": "stderr",
     "output_type": "stream",
     "text": [
      "/var/folders/4m/1wz16rw93fx6w7w3zg7q2dm80000gn/T/ipykernel_15026/2207792410.py:20: DeprecationWarning: activeCount() is deprecated, use active_count() instead\n",
      "  if threading.activeCount() - activeThreads + 1 <= k+1:\n"
     ]
    },
    {
     "name": "stdout",
     "output_type": "stream",
     "text": [
      "Iterating on sample  9\n",
      "iteration  1\n",
      "sigmoid 4.490231970287956 8.957510335840668\n"
     ]
    },
    {
     "name": "stderr",
     "output_type": "stream",
     "text": [
      "/var/folders/4m/1wz16rw93fx6w7w3zg7q2dm80000gn/T/ipykernel_15026/2207792410.py:20: DeprecationWarning: activeCount() is deprecated, use active_count() instead\n",
      "  if threading.activeCount() - activeThreads + 1 <= k+1:\n",
      "/var/folders/4m/1wz16rw93fx6w7w3zg7q2dm80000gn/T/ipykernel_15026/2207792410.py:20: DeprecationWarning: activeCount() is deprecated, use active_count() instead\n",
      "  if threading.activeCount() - activeThreads + 1 <= k+1:\n"
     ]
    },
    {
     "name": "stdout",
     "output_type": "stream",
     "text": [
      "fit\n",
      "iteration  2\n",
      "sigmoid 9.499053713346644 8.595372079565193\n"
     ]
    },
    {
     "name": "stderr",
     "output_type": "stream",
     "text": [
      "/var/folders/4m/1wz16rw93fx6w7w3zg7q2dm80000gn/T/ipykernel_15026/2207792410.py:20: DeprecationWarning: activeCount() is deprecated, use active_count() instead\n",
      "  if threading.activeCount() - activeThreads + 1 <= k+1:\n"
     ]
    },
    {
     "name": "stdout",
     "output_type": "stream",
     "text": [
      "fit\n"
     ]
    },
    {
     "name": "stderr",
     "output_type": "stream",
     "text": [
      "/var/folders/4m/1wz16rw93fx6w7w3zg7q2dm80000gn/T/ipykernel_15026/2207792410.py:20: DeprecationWarning: activeCount() is deprecated, use active_count() instead\n",
      "  if threading.activeCount() - activeThreads + 1 <= k+1:\n",
      "/var/folders/4m/1wz16rw93fx6w7w3zg7q2dm80000gn/T/ipykernel_15026/2207792410.py:20: DeprecationWarning: activeCount() is deprecated, use active_count() instead\n",
      "  if threading.activeCount() - activeThreads + 1 <= k+1:\n"
     ]
    },
    {
     "name": "stdout",
     "output_type": "stream",
     "text": [
      "Iterating on sample  10\n",
      "iteration  1\n",
      "sigmoid 8.318179993771702 5.733334485763891\n"
     ]
    },
    {
     "name": "stderr",
     "output_type": "stream",
     "text": [
      "/var/folders/4m/1wz16rw93fx6w7w3zg7q2dm80000gn/T/ipykernel_15026/2207792410.py:20: DeprecationWarning: activeCount() is deprecated, use active_count() instead\n",
      "  if threading.activeCount() - activeThreads + 1 <= k+1:\n"
     ]
    },
    {
     "name": "stdout",
     "output_type": "stream",
     "text": [
      "fit\n",
      "iteration  2\n",
      "rbf 7.220530438314361 5.8575460339936205\n"
     ]
    },
    {
     "name": "stderr",
     "output_type": "stream",
     "text": [
      "/var/folders/4m/1wz16rw93fx6w7w3zg7q2dm80000gn/T/ipykernel_15026/2207792410.py:20: DeprecationWarning: activeCount() is deprecated, use active_count() instead\n",
      "  if threading.activeCount() - activeThreads + 1 <= k+1:\n"
     ]
    },
    {
     "name": "stdout",
     "output_type": "stream",
     "text": [
      "fit\n"
     ]
    },
    {
     "name": "stderr",
     "output_type": "stream",
     "text": [
      "/var/folders/4m/1wz16rw93fx6w7w3zg7q2dm80000gn/T/ipykernel_15026/2207792410.py:20: DeprecationWarning: activeCount() is deprecated, use active_count() instead\n",
      "  if threading.activeCount() - activeThreads + 1 <= k+1:\n"
     ]
    },
    {
     "name": "stdout",
     "output_type": "stream",
     "text": [
      "Iterating on sample  11\n",
      "iteration  1\n",
      "rbf 6.090641497389298 1.3618819238929236\n"
     ]
    },
    {
     "name": "stderr",
     "output_type": "stream",
     "text": [
      "/var/folders/4m/1wz16rw93fx6w7w3zg7q2dm80000gn/T/ipykernel_15026/2207792410.py:20: DeprecationWarning: activeCount() is deprecated, use active_count() instead\n",
      "  if threading.activeCount() - activeThreads + 1 <= k+1:\n",
      "/var/folders/4m/1wz16rw93fx6w7w3zg7q2dm80000gn/T/ipykernel_15026/2207792410.py:20: DeprecationWarning: activeCount() is deprecated, use active_count() instead\n",
      "  if threading.activeCount() - activeThreads + 1 <= k+1:\n"
     ]
    },
    {
     "name": "stdout",
     "output_type": "stream",
     "text": [
      "fit\n"
     ]
    },
    {
     "name": "stderr",
     "output_type": "stream",
     "text": [
      "/var/folders/4m/1wz16rw93fx6w7w3zg7q2dm80000gn/T/ipykernel_15026/2207792410.py:20: DeprecationWarning: activeCount() is deprecated, use active_count() instead\n",
      "  if threading.activeCount() - activeThreads + 1 <= k+1:\n"
     ]
    },
    {
     "name": "stdout",
     "output_type": "stream",
     "text": [
      "iteration  2\n",
      "rbf 4.841511968916538 1.7066272618753575\n"
     ]
    },
    {
     "name": "stderr",
     "output_type": "stream",
     "text": [
      "/var/folders/4m/1wz16rw93fx6w7w3zg7q2dm80000gn/T/ipykernel_15026/2207792410.py:20: DeprecationWarning: activeCount() is deprecated, use active_count() instead\n",
      "  if threading.activeCount() - activeThreads + 1 <= k+1:\n"
     ]
    },
    {
     "name": "stdout",
     "output_type": "stream",
     "text": [
      "fit\n"
     ]
    },
    {
     "name": "stderr",
     "output_type": "stream",
     "text": [
      "/var/folders/4m/1wz16rw93fx6w7w3zg7q2dm80000gn/T/ipykernel_15026/2207792410.py:20: DeprecationWarning: activeCount() is deprecated, use active_count() instead\n",
      "  if threading.activeCount() - activeThreads + 1 <= k+1:\n"
     ]
    },
    {
     "name": "stdout",
     "output_type": "stream",
     "text": [
      "Iterating on sample  12\n",
      "iteration  1\n",
      "rbf 9.649283142927544 3.347822127702602\n"
     ]
    },
    {
     "name": "stderr",
     "output_type": "stream",
     "text": [
      "/var/folders/4m/1wz16rw93fx6w7w3zg7q2dm80000gn/T/ipykernel_15026/2207792410.py:20: DeprecationWarning: activeCount() is deprecated, use active_count() instead\n",
      "  if threading.activeCount() - activeThreads + 1 <= k+1:\n",
      "/var/folders/4m/1wz16rw93fx6w7w3zg7q2dm80000gn/T/ipykernel_15026/2207792410.py:20: DeprecationWarning: activeCount() is deprecated, use active_count() instead\n",
      "  if threading.activeCount() - activeThreads + 1 <= k+1:\n"
     ]
    },
    {
     "name": "stdout",
     "output_type": "stream",
     "text": [
      "fit\n"
     ]
    },
    {
     "name": "stderr",
     "output_type": "stream",
     "text": [
      "/var/folders/4m/1wz16rw93fx6w7w3zg7q2dm80000gn/T/ipykernel_15026/2207792410.py:20: DeprecationWarning: activeCount() is deprecated, use active_count() instead\n",
      "  if threading.activeCount() - activeThreads + 1 <= k+1:\n"
     ]
    },
    {
     "name": "stdout",
     "output_type": "stream",
     "text": [
      "iteration  2\n",
      "rbf 2.8592105469225 3.493719702060205\n"
     ]
    },
    {
     "name": "stderr",
     "output_type": "stream",
     "text": [
      "/var/folders/4m/1wz16rw93fx6w7w3zg7q2dm80000gn/T/ipykernel_15026/2207792410.py:20: DeprecationWarning: activeCount() is deprecated, use active_count() instead\n",
      "  if threading.activeCount() - activeThreads + 1 <= k+1:\n"
     ]
    },
    {
     "name": "stdout",
     "output_type": "stream",
     "text": [
      "fit\n"
     ]
    },
    {
     "name": "stderr",
     "output_type": "stream",
     "text": [
      "/var/folders/4m/1wz16rw93fx6w7w3zg7q2dm80000gn/T/ipykernel_15026/2207792410.py:20: DeprecationWarning: activeCount() is deprecated, use active_count() instead\n",
      "  if threading.activeCount() - activeThreads + 1 <= k+1:\n"
     ]
    },
    {
     "name": "stdout",
     "output_type": "stream",
     "text": [
      "Iterating on sample  13\n",
      "iteration  1\n",
      "rbf 8.008301184742106 5.118956535006504\n"
     ]
    },
    {
     "name": "stderr",
     "output_type": "stream",
     "text": [
      "/var/folders/4m/1wz16rw93fx6w7w3zg7q2dm80000gn/T/ipykernel_15026/2207792410.py:20: DeprecationWarning: activeCount() is deprecated, use active_count() instead\n",
      "  if threading.activeCount() - activeThreads + 1 <= k+1:\n",
      "/var/folders/4m/1wz16rw93fx6w7w3zg7q2dm80000gn/T/ipykernel_15026/2207792410.py:20: DeprecationWarning: activeCount() is deprecated, use active_count() instead\n",
      "  if threading.activeCount() - activeThreads + 1 <= k+1:\n"
     ]
    },
    {
     "name": "stdout",
     "output_type": "stream",
     "text": [
      "fit\n"
     ]
    },
    {
     "name": "stderr",
     "output_type": "stream",
     "text": [
      "/var/folders/4m/1wz16rw93fx6w7w3zg7q2dm80000gn/T/ipykernel_15026/2207792410.py:20: DeprecationWarning: activeCount() is deprecated, use active_count() instead\n",
      "  if threading.activeCount() - activeThreads + 1 <= k+1:\n"
     ]
    },
    {
     "name": "stdout",
     "output_type": "stream",
     "text": [
      "iteration  2\n",
      "sigmoid 3.1470062956438163 7.915615280571475\n"
     ]
    },
    {
     "name": "stderr",
     "output_type": "stream",
     "text": [
      "/var/folders/4m/1wz16rw93fx6w7w3zg7q2dm80000gn/T/ipykernel_15026/2207792410.py:20: DeprecationWarning: activeCount() is deprecated, use active_count() instead\n",
      "  if threading.activeCount() - activeThreads + 1 <= k+1:\n"
     ]
    },
    {
     "name": "stdout",
     "output_type": "stream",
     "text": [
      "fit\n"
     ]
    },
    {
     "name": "stderr",
     "output_type": "stream",
     "text": [
      "/var/folders/4m/1wz16rw93fx6w7w3zg7q2dm80000gn/T/ipykernel_15026/2207792410.py:20: DeprecationWarning: activeCount() is deprecated, use active_count() instead\n",
      "  if threading.activeCount() - activeThreads + 1 <= k+1:\n",
      "/var/folders/4m/1wz16rw93fx6w7w3zg7q2dm80000gn/T/ipykernel_15026/2207792410.py:20: DeprecationWarning: activeCount() is deprecated, use active_count() instead\n",
      "  if threading.activeCount() - activeThreads + 1 <= k+1:\n"
     ]
    },
    {
     "name": "stdout",
     "output_type": "stream",
     "text": [
      "Iterating on sample  14\n",
      "iteration  1\n",
      "sigmoid 6.211361182227688 6.829680419163154\n"
     ]
    },
    {
     "name": "stderr",
     "output_type": "stream",
     "text": [
      "/var/folders/4m/1wz16rw93fx6w7w3zg7q2dm80000gn/T/ipykernel_15026/2207792410.py:20: DeprecationWarning: activeCount() is deprecated, use active_count() instead\n",
      "  if threading.activeCount() - activeThreads + 1 <= k+1:\n"
     ]
    },
    {
     "name": "stdout",
     "output_type": "stream",
     "text": [
      "fit\n",
      "iteration  2\n",
      "rbf 0.8979872139183198 6.163426567574314\n"
     ]
    },
    {
     "name": "stderr",
     "output_type": "stream",
     "text": [
      "/var/folders/4m/1wz16rw93fx6w7w3zg7q2dm80000gn/T/ipykernel_15026/2207792410.py:20: DeprecationWarning: activeCount() is deprecated, use active_count() instead\n",
      "  if threading.activeCount() - activeThreads + 1 <= k+1:\n"
     ]
    },
    {
     "name": "stdout",
     "output_type": "stream",
     "text": [
      "fit\n"
     ]
    },
    {
     "name": "stderr",
     "output_type": "stream",
     "text": [
      "/var/folders/4m/1wz16rw93fx6w7w3zg7q2dm80000gn/T/ipykernel_15026/2207792410.py:20: DeprecationWarning: activeCount() is deprecated, use active_count() instead\n",
      "  if threading.activeCount() - activeThreads + 1 <= k+1:\n"
     ]
    },
    {
     "name": "stdout",
     "output_type": "stream",
     "text": [
      "Iterating on sample  15\n",
      "iteration  1\n",
      "linear 3.116641450070956 5.289934565438271\n"
     ]
    },
    {
     "name": "stderr",
     "output_type": "stream",
     "text": [
      "/var/folders/4m/1wz16rw93fx6w7w3zg7q2dm80000gn/T/ipykernel_15026/2207792410.py:20: DeprecationWarning: activeCount() is deprecated, use active_count() instead\n",
      "  if threading.activeCount() - activeThreads + 1 <= k+1:\n",
      "/var/folders/4m/1wz16rw93fx6w7w3zg7q2dm80000gn/T/ipykernel_15026/2207792410.py:20: DeprecationWarning: activeCount() is deprecated, use active_count() instead\n",
      "  if threading.activeCount() - activeThreads + 1 <= k+1:\n"
     ]
    },
    {
     "name": "stdout",
     "output_type": "stream",
     "text": [
      "fit\n",
      "iteration  2\n",
      "linear 2.31465340088971 3.9913377384374362\n"
     ]
    },
    {
     "name": "stderr",
     "output_type": "stream",
     "text": [
      "/var/folders/4m/1wz16rw93fx6w7w3zg7q2dm80000gn/T/ipykernel_15026/2207792410.py:20: DeprecationWarning: activeCount() is deprecated, use active_count() instead\n",
      "  if threading.activeCount() - activeThreads + 1 <= k+1:\n"
     ]
    },
    {
     "name": "stdout",
     "output_type": "stream",
     "text": [
      "fit\n"
     ]
    },
    {
     "name": "stderr",
     "output_type": "stream",
     "text": [
      "/var/folders/4m/1wz16rw93fx6w7w3zg7q2dm80000gn/T/ipykernel_15026/2207792410.py:20: DeprecationWarning: activeCount() is deprecated, use active_count() instead\n",
      "  if threading.activeCount() - activeThreads + 1 <= k+1:\n"
     ]
    },
    {
     "name": "stdout",
     "output_type": "stream",
     "text": [
      "Iterating on sample  16\n",
      "iteration  1\n",
      "sigmoid 6.989512714962835 0.5736621510874629\n"
     ]
    },
    {
     "name": "stderr",
     "output_type": "stream",
     "text": [
      "/var/folders/4m/1wz16rw93fx6w7w3zg7q2dm80000gn/T/ipykernel_15026/2207792410.py:20: DeprecationWarning: activeCount() is deprecated, use active_count() instead\n",
      "  if threading.activeCount() - activeThreads + 1 <= k+1:\n",
      "/var/folders/4m/1wz16rw93fx6w7w3zg7q2dm80000gn/T/ipykernel_15026/2207792410.py:20: DeprecationWarning: activeCount() is deprecated, use active_count() instead\n",
      "  if threading.activeCount() - activeThreads + 1 <= k+1:\n"
     ]
    },
    {
     "name": "stdout",
     "output_type": "stream",
     "text": [
      "fit\n",
      "iteration  2\n",
      "linear 3.7601286350430896 3.726697507240291\n"
     ]
    },
    {
     "name": "stderr",
     "output_type": "stream",
     "text": [
      "/var/folders/4m/1wz16rw93fx6w7w3zg7q2dm80000gn/T/ipykernel_15026/2207792410.py:20: DeprecationWarning: activeCount() is deprecated, use active_count() instead\n",
      "  if threading.activeCount() - activeThreads + 1 <= k+1:\n"
     ]
    },
    {
     "name": "stdout",
     "output_type": "stream",
     "text": [
      "fit\n"
     ]
    },
    {
     "name": "stderr",
     "output_type": "stream",
     "text": [
      "/var/folders/4m/1wz16rw93fx6w7w3zg7q2dm80000gn/T/ipykernel_15026/2207792410.py:20: DeprecationWarning: activeCount() is deprecated, use active_count() instead\n",
      "  if threading.activeCount() - activeThreads + 1 <= k+1:\n",
      "/var/folders/4m/1wz16rw93fx6w7w3zg7q2dm80000gn/T/ipykernel_15026/2207792410.py:20: DeprecationWarning: activeCount() is deprecated, use active_count() instead\n",
      "  if threading.activeCount() - activeThreads + 1 <= k+1:\n"
     ]
    },
    {
     "name": "stdout",
     "output_type": "stream",
     "text": [
      "Iterating on sample  17\n",
      "iteration  1\n",
      "linear 8.053841792507253 1.2115087592089546\n"
     ]
    },
    {
     "name": "stderr",
     "output_type": "stream",
     "text": [
      "/var/folders/4m/1wz16rw93fx6w7w3zg7q2dm80000gn/T/ipykernel_15026/2207792410.py:20: DeprecationWarning: activeCount() is deprecated, use active_count() instead\n",
      "  if threading.activeCount() - activeThreads + 1 <= k+1:\n"
     ]
    },
    {
     "name": "stdout",
     "output_type": "stream",
     "text": [
      "fit\n"
     ]
    },
    {
     "name": "stderr",
     "output_type": "stream",
     "text": [
      "/var/folders/4m/1wz16rw93fx6w7w3zg7q2dm80000gn/T/ipykernel_15026/2207792410.py:20: DeprecationWarning: activeCount() is deprecated, use active_count() instead\n",
      "  if threading.activeCount() - activeThreads + 1 <= k+1:\n"
     ]
    },
    {
     "name": "stdout",
     "output_type": "stream",
     "text": [
      "iteration  2\n",
      "rbf 2.582812676935741 0.029839451116965288\n"
     ]
    },
    {
     "name": "stderr",
     "output_type": "stream",
     "text": [
      "/var/folders/4m/1wz16rw93fx6w7w3zg7q2dm80000gn/T/ipykernel_15026/2207792410.py:20: DeprecationWarning: activeCount() is deprecated, use active_count() instead\n",
      "  if threading.activeCount() - activeThreads + 1 <= k+1:\n"
     ]
    },
    {
     "name": "stdout",
     "output_type": "stream",
     "text": [
      "fit\n"
     ]
    },
    {
     "name": "stderr",
     "output_type": "stream",
     "text": [
      "/var/folders/4m/1wz16rw93fx6w7w3zg7q2dm80000gn/T/ipykernel_15026/2207792410.py:20: DeprecationWarning: activeCount() is deprecated, use active_count() instead\n",
      "  if threading.activeCount() - activeThreads + 1 <= k+1:\n"
     ]
    },
    {
     "name": "stdout",
     "output_type": "stream",
     "text": [
      "Iterating on sample  18\n",
      "iteration  1\n",
      "linear 8.514437806204448 0.6255313765327886\n"
     ]
    },
    {
     "name": "stderr",
     "output_type": "stream",
     "text": [
      "/var/folders/4m/1wz16rw93fx6w7w3zg7q2dm80000gn/T/ipykernel_15026/2207792410.py:20: DeprecationWarning: activeCount() is deprecated, use active_count() instead\n",
      "  if threading.activeCount() - activeThreads + 1 <= k+1:\n",
      "/var/folders/4m/1wz16rw93fx6w7w3zg7q2dm80000gn/T/ipykernel_15026/2207792410.py:20: DeprecationWarning: activeCount() is deprecated, use active_count() instead\n",
      "  if threading.activeCount() - activeThreads + 1 <= k+1:\n"
     ]
    },
    {
     "name": "stdout",
     "output_type": "stream",
     "text": [
      "fit\n",
      "iteration  2\n",
      "sigmoid 0.9138796297604934 6.608059544561136\n"
     ]
    },
    {
     "name": "stderr",
     "output_type": "stream",
     "text": [
      "/var/folders/4m/1wz16rw93fx6w7w3zg7q2dm80000gn/T/ipykernel_15026/2207792410.py:20: DeprecationWarning: activeCount() is deprecated, use active_count() instead\n",
      "  if threading.activeCount() - activeThreads + 1 <= k+1:\n"
     ]
    },
    {
     "name": "stdout",
     "output_type": "stream",
     "text": [
      "fit\n"
     ]
    },
    {
     "name": "stderr",
     "output_type": "stream",
     "text": [
      "/var/folders/4m/1wz16rw93fx6w7w3zg7q2dm80000gn/T/ipykernel_15026/2207792410.py:20: DeprecationWarning: activeCount() is deprecated, use active_count() instead\n",
      "  if threading.activeCount() - activeThreads + 1 <= k+1:\n"
     ]
    },
    {
     "name": "stdout",
     "output_type": "stream",
     "text": [
      "Iterating on sample  19\n",
      "iteration  1\n",
      "rbf 1.0906154748441144 0.35591136535304657\n"
     ]
    },
    {
     "name": "stderr",
     "output_type": "stream",
     "text": [
      "/var/folders/4m/1wz16rw93fx6w7w3zg7q2dm80000gn/T/ipykernel_15026/2207792410.py:20: DeprecationWarning: activeCount() is deprecated, use active_count() instead\n",
      "  if threading.activeCount() - activeThreads + 1 <= k+1:\n",
      "/var/folders/4m/1wz16rw93fx6w7w3zg7q2dm80000gn/T/ipykernel_15026/2207792410.py:20: DeprecationWarning: activeCount() is deprecated, use active_count() instead\n",
      "  if threading.activeCount() - activeThreads + 1 <= k+1:\n"
     ]
    },
    {
     "name": "stdout",
     "output_type": "stream",
     "text": [
      "fit\n"
     ]
    },
    {
     "name": "stderr",
     "output_type": "stream",
     "text": [
      "/var/folders/4m/1wz16rw93fx6w7w3zg7q2dm80000gn/T/ipykernel_15026/2207792410.py:20: DeprecationWarning: activeCount() is deprecated, use active_count() instead\n",
      "  if threading.activeCount() - activeThreads + 1 <= k+1:\n"
     ]
    },
    {
     "name": "stdout",
     "output_type": "stream",
     "text": [
      "iteration  2\n",
      "sigmoid 7.78681529611304 6.27716237810702\n"
     ]
    },
    {
     "name": "stderr",
     "output_type": "stream",
     "text": [
      "/var/folders/4m/1wz16rw93fx6w7w3zg7q2dm80000gn/T/ipykernel_15026/2207792410.py:20: DeprecationWarning: activeCount() is deprecated, use active_count() instead\n",
      "  if threading.activeCount() - activeThreads + 1 <= k+1:\n"
     ]
    },
    {
     "name": "stdout",
     "output_type": "stream",
     "text": [
      "fit\n"
     ]
    },
    {
     "name": "stderr",
     "output_type": "stream",
     "text": [
      "/var/folders/4m/1wz16rw93fx6w7w3zg7q2dm80000gn/T/ipykernel_15026/2207792410.py:20: DeprecationWarning: activeCount() is deprecated, use active_count() instead\n",
      "  if threading.activeCount() - activeThreads + 1 <= k+1:\n",
      "/var/folders/4m/1wz16rw93fx6w7w3zg7q2dm80000gn/T/ipykernel_15026/2207792410.py:20: DeprecationWarning: activeCount() is deprecated, use active_count() instead\n",
      "  if threading.activeCount() - activeThreads + 1 <= k+1:\n"
     ]
    },
    {
     "name": "stdout",
     "output_type": "stream",
     "text": [
      "Iterating on sample  20\n",
      "iteration  1\n",
      "rbf 6.627845697326106 3.413817273535713\n"
     ]
    },
    {
     "name": "stderr",
     "output_type": "stream",
     "text": [
      "/var/folders/4m/1wz16rw93fx6w7w3zg7q2dm80000gn/T/ipykernel_15026/2207792410.py:20: DeprecationWarning: activeCount() is deprecated, use active_count() instead\n",
      "  if threading.activeCount() - activeThreads + 1 <= k+1:\n"
     ]
    },
    {
     "name": "stdout",
     "output_type": "stream",
     "text": [
      "fit\n"
     ]
    },
    {
     "name": "stderr",
     "output_type": "stream",
     "text": [
      "/var/folders/4m/1wz16rw93fx6w7w3zg7q2dm80000gn/T/ipykernel_15026/2207792410.py:20: DeprecationWarning: activeCount() is deprecated, use active_count() instead\n",
      "  if threading.activeCount() - activeThreads + 1 <= k+1:\n"
     ]
    },
    {
     "name": "stdout",
     "output_type": "stream",
     "text": [
      "iteration  2\n",
      "sigmoid 3.507490229312984 4.0443915478507995\n"
     ]
    },
    {
     "name": "stderr",
     "output_type": "stream",
     "text": [
      "/var/folders/4m/1wz16rw93fx6w7w3zg7q2dm80000gn/T/ipykernel_15026/2207792410.py:20: DeprecationWarning: activeCount() is deprecated, use active_count() instead\n",
      "  if threading.activeCount() - activeThreads + 1 <= k+1:\n"
     ]
    },
    {
     "name": "stdout",
     "output_type": "stream",
     "text": [
      "fit\n"
     ]
    },
    {
     "name": "stderr",
     "output_type": "stream",
     "text": [
      "/var/folders/4m/1wz16rw93fx6w7w3zg7q2dm80000gn/T/ipykernel_15026/2207792410.py:20: DeprecationWarning: activeCount() is deprecated, use active_count() instead\n",
      "  if threading.activeCount() - activeThreads + 1 <= k+1:\n"
     ]
    },
    {
     "name": "stdout",
     "output_type": "stream",
     "text": [
      "Iterating on sample  21\n",
      "iteration  1\n",
      "linear 0.7757586006093364 3.3920025145798007\n"
     ]
    },
    {
     "name": "stderr",
     "output_type": "stream",
     "text": [
      "/var/folders/4m/1wz16rw93fx6w7w3zg7q2dm80000gn/T/ipykernel_15026/2207792410.py:20: DeprecationWarning: activeCount() is deprecated, use active_count() instead\n",
      "  if threading.activeCount() - activeThreads + 1 <= k+1:\n",
      "/var/folders/4m/1wz16rw93fx6w7w3zg7q2dm80000gn/T/ipykernel_15026/2207792410.py:20: DeprecationWarning: activeCount() is deprecated, use active_count() instead\n",
      "  if threading.activeCount() - activeThreads + 1 <= k+1:\n"
     ]
    },
    {
     "name": "stdout",
     "output_type": "stream",
     "text": [
      "fit\n"
     ]
    },
    {
     "name": "stderr",
     "output_type": "stream",
     "text": [
      "/var/folders/4m/1wz16rw93fx6w7w3zg7q2dm80000gn/T/ipykernel_15026/2207792410.py:20: DeprecationWarning: activeCount() is deprecated, use active_count() instead\n",
      "  if threading.activeCount() - activeThreads + 1 <= k+1:\n"
     ]
    },
    {
     "name": "stdout",
     "output_type": "stream",
     "text": [
      "iteration  2\n",
      "rbf 1.7511969450955944 1.1644374062595209\n"
     ]
    },
    {
     "name": "stderr",
     "output_type": "stream",
     "text": [
      "/var/folders/4m/1wz16rw93fx6w7w3zg7q2dm80000gn/T/ipykernel_15026/2207792410.py:20: DeprecationWarning: activeCount() is deprecated, use active_count() instead\n",
      "  if threading.activeCount() - activeThreads + 1 <= k+1:\n"
     ]
    },
    {
     "name": "stdout",
     "output_type": "stream",
     "text": [
      "fit\n"
     ]
    },
    {
     "name": "stderr",
     "output_type": "stream",
     "text": [
      "/var/folders/4m/1wz16rw93fx6w7w3zg7q2dm80000gn/T/ipykernel_15026/2207792410.py:20: DeprecationWarning: activeCount() is deprecated, use active_count() instead\n",
      "  if threading.activeCount() - activeThreads + 1 <= k+1:\n"
     ]
    },
    {
     "name": "stdout",
     "output_type": "stream",
     "text": [
      "Iterating on sample  22\n",
      "iteration  1\n",
      "sigmoid 7.272371836962359 5.945772161634341\n"
     ]
    },
    {
     "name": "stderr",
     "output_type": "stream",
     "text": [
      "/var/folders/4m/1wz16rw93fx6w7w3zg7q2dm80000gn/T/ipykernel_15026/2207792410.py:20: DeprecationWarning: activeCount() is deprecated, use active_count() instead\n",
      "  if threading.activeCount() - activeThreads + 1 <= k+1:\n",
      "/var/folders/4m/1wz16rw93fx6w7w3zg7q2dm80000gn/T/ipykernel_15026/2207792410.py:20: DeprecationWarning: activeCount() is deprecated, use active_count() instead\n",
      "  if threading.activeCount() - activeThreads + 1 <= k+1:\n"
     ]
    },
    {
     "name": "stdout",
     "output_type": "stream",
     "text": [
      "fit\n",
      "iteration  2\n",
      "sigmoid 9.889874950311249 2.7815919978283175\n"
     ]
    },
    {
     "name": "stderr",
     "output_type": "stream",
     "text": [
      "/var/folders/4m/1wz16rw93fx6w7w3zg7q2dm80000gn/T/ipykernel_15026/2207792410.py:20: DeprecationWarning: activeCount() is deprecated, use active_count() instead\n",
      "  if threading.activeCount() - activeThreads + 1 <= k+1:\n"
     ]
    },
    {
     "name": "stdout",
     "output_type": "stream",
     "text": [
      "fit\n"
     ]
    },
    {
     "name": "stderr",
     "output_type": "stream",
     "text": [
      "/var/folders/4m/1wz16rw93fx6w7w3zg7q2dm80000gn/T/ipykernel_15026/2207792410.py:20: DeprecationWarning: activeCount() is deprecated, use active_count() instead\n",
      "  if threading.activeCount() - activeThreads + 1 <= k+1:\n",
      "/var/folders/4m/1wz16rw93fx6w7w3zg7q2dm80000gn/T/ipykernel_15026/2207792410.py:20: DeprecationWarning: activeCount() is deprecated, use active_count() instead\n",
      "  if threading.activeCount() - activeThreads + 1 <= k+1:\n"
     ]
    },
    {
     "name": "stdout",
     "output_type": "stream",
     "text": [
      "Iterating on sample  23\n",
      "iteration  1\n",
      "rbf 4.375942122461527 8.353049620244153\n"
     ]
    },
    {
     "name": "stderr",
     "output_type": "stream",
     "text": [
      "/var/folders/4m/1wz16rw93fx6w7w3zg7q2dm80000gn/T/ipykernel_15026/2207792410.py:20: DeprecationWarning: activeCount() is deprecated, use active_count() instead\n",
      "  if threading.activeCount() - activeThreads + 1 <= k+1:\n"
     ]
    },
    {
     "name": "stdout",
     "output_type": "stream",
     "text": [
      "fit\n"
     ]
    },
    {
     "name": "stderr",
     "output_type": "stream",
     "text": [
      "/var/folders/4m/1wz16rw93fx6w7w3zg7q2dm80000gn/T/ipykernel_15026/2207792410.py:20: DeprecationWarning: activeCount() is deprecated, use active_count() instead\n",
      "  if threading.activeCount() - activeThreads + 1 <= k+1:\n"
     ]
    },
    {
     "name": "stdout",
     "output_type": "stream",
     "text": [
      "iteration  2\n",
      "rbf 9.44116180021954 9.488996049676295\n"
     ]
    },
    {
     "name": "stderr",
     "output_type": "stream",
     "text": [
      "/var/folders/4m/1wz16rw93fx6w7w3zg7q2dm80000gn/T/ipykernel_15026/2207792410.py:20: DeprecationWarning: activeCount() is deprecated, use active_count() instead\n",
      "  if threading.activeCount() - activeThreads + 1 <= k+1:\n"
     ]
    },
    {
     "name": "stdout",
     "output_type": "stream",
     "text": [
      "fit\n"
     ]
    },
    {
     "name": "stderr",
     "output_type": "stream",
     "text": [
      "/var/folders/4m/1wz16rw93fx6w7w3zg7q2dm80000gn/T/ipykernel_15026/2207792410.py:20: DeprecationWarning: activeCount() is deprecated, use active_count() instead\n",
      "  if threading.activeCount() - activeThreads + 1 <= k+1:\n"
     ]
    },
    {
     "name": "stdout",
     "output_type": "stream",
     "text": [
      "Iterating on sample  24\n",
      "iteration  1\n",
      "rbf 0.9521378709615436 3.758928022528111\n"
     ]
    },
    {
     "name": "stderr",
     "output_type": "stream",
     "text": [
      "/var/folders/4m/1wz16rw93fx6w7w3zg7q2dm80000gn/T/ipykernel_15026/2207792410.py:20: DeprecationWarning: activeCount() is deprecated, use active_count() instead\n",
      "  if threading.activeCount() - activeThreads + 1 <= k+1:\n",
      "/var/folders/4m/1wz16rw93fx6w7w3zg7q2dm80000gn/T/ipykernel_15026/2207792410.py:20: DeprecationWarning: activeCount() is deprecated, use active_count() instead\n",
      "  if threading.activeCount() - activeThreads + 1 <= k+1:\n"
     ]
    },
    {
     "name": "stdout",
     "output_type": "stream",
     "text": [
      "fit\n"
     ]
    },
    {
     "name": "stderr",
     "output_type": "stream",
     "text": [
      "/var/folders/4m/1wz16rw93fx6w7w3zg7q2dm80000gn/T/ipykernel_15026/2207792410.py:20: DeprecationWarning: activeCount() is deprecated, use active_count() instead\n",
      "  if threading.activeCount() - activeThreads + 1 <= k+1:\n"
     ]
    },
    {
     "name": "stdout",
     "output_type": "stream",
     "text": [
      "iteration  2\n",
      "rbf 5.926288736629308 3.4966690557525304\n"
     ]
    },
    {
     "name": "stderr",
     "output_type": "stream",
     "text": [
      "/var/folders/4m/1wz16rw93fx6w7w3zg7q2dm80000gn/T/ipykernel_15026/2207792410.py:20: DeprecationWarning: activeCount() is deprecated, use active_count() instead\n",
      "  if threading.activeCount() - activeThreads + 1 <= k+1:\n"
     ]
    },
    {
     "name": "stdout",
     "output_type": "stream",
     "text": [
      "fit\n"
     ]
    },
    {
     "name": "stderr",
     "output_type": "stream",
     "text": [
      "/var/folders/4m/1wz16rw93fx6w7w3zg7q2dm80000gn/T/ipykernel_15026/2207792410.py:20: DeprecationWarning: activeCount() is deprecated, use active_count() instead\n",
      "  if threading.activeCount() - activeThreads + 1 <= k+1:\n"
     ]
    },
    {
     "name": "stdout",
     "output_type": "stream",
     "text": [
      "Iterating on sample  25\n",
      "iteration  1\n",
      "sigmoid 0.598191379717089 4.319128504387152\n"
     ]
    },
    {
     "name": "stderr",
     "output_type": "stream",
     "text": [
      "/var/folders/4m/1wz16rw93fx6w7w3zg7q2dm80000gn/T/ipykernel_15026/2207792410.py:20: DeprecationWarning: activeCount() is deprecated, use active_count() instead\n",
      "  if threading.activeCount() - activeThreads + 1 <= k+1:\n",
      "/var/folders/4m/1wz16rw93fx6w7w3zg7q2dm80000gn/T/ipykernel_15026/2207792410.py:20: DeprecationWarning: activeCount() is deprecated, use active_count() instead\n",
      "  if threading.activeCount() - activeThreads + 1 <= k+1:\n"
     ]
    },
    {
     "name": "stdout",
     "output_type": "stream",
     "text": [
      "fit\n",
      "iteration  2\n",
      "rbf 1.8738036810778935 9.723645341884081\n"
     ]
    },
    {
     "name": "stderr",
     "output_type": "stream",
     "text": [
      "/var/folders/4m/1wz16rw93fx6w7w3zg7q2dm80000gn/T/ipykernel_15026/2207792410.py:20: DeprecationWarning: activeCount() is deprecated, use active_count() instead\n",
      "  if threading.activeCount() - activeThreads + 1 <= k+1:\n"
     ]
    },
    {
     "name": "stdout",
     "output_type": "stream",
     "text": [
      "fit\n"
     ]
    },
    {
     "name": "stderr",
     "output_type": "stream",
     "text": [
      "/var/folders/4m/1wz16rw93fx6w7w3zg7q2dm80000gn/T/ipykernel_15026/2207792410.py:20: DeprecationWarning: activeCount() is deprecated, use active_count() instead\n",
      "  if threading.activeCount() - activeThreads + 1 <= k+1:\n"
     ]
    },
    {
     "name": "stdout",
     "output_type": "stream",
     "text": [
      "Iterating on sample  26\n",
      "iteration  1\n",
      "rbf 2.5821058516932105 7.153848600661144\n"
     ]
    },
    {
     "name": "stderr",
     "output_type": "stream",
     "text": [
      "/var/folders/4m/1wz16rw93fx6w7w3zg7q2dm80000gn/T/ipykernel_15026/2207792410.py:20: DeprecationWarning: activeCount() is deprecated, use active_count() instead\n",
      "  if threading.activeCount() - activeThreads + 1 <= k+1:\n",
      "/var/folders/4m/1wz16rw93fx6w7w3zg7q2dm80000gn/T/ipykernel_15026/2207792410.py:20: DeprecationWarning: activeCount() is deprecated, use active_count() instead\n",
      "  if threading.activeCount() - activeThreads + 1 <= k+1:\n"
     ]
    },
    {
     "name": "stdout",
     "output_type": "stream",
     "text": [
      "fit\n"
     ]
    },
    {
     "name": "stderr",
     "output_type": "stream",
     "text": [
      "/var/folders/4m/1wz16rw93fx6w7w3zg7q2dm80000gn/T/ipykernel_15026/2207792410.py:20: DeprecationWarning: activeCount() is deprecated, use active_count() instead\n",
      "  if threading.activeCount() - activeThreads + 1 <= k+1:\n"
     ]
    },
    {
     "name": "stdout",
     "output_type": "stream",
     "text": [
      "iteration  2\n",
      "linear 4.091302598047749 2.956595710258906\n"
     ]
    },
    {
     "name": "stderr",
     "output_type": "stream",
     "text": [
      "/var/folders/4m/1wz16rw93fx6w7w3zg7q2dm80000gn/T/ipykernel_15026/2207792410.py:20: DeprecationWarning: activeCount() is deprecated, use active_count() instead\n",
      "  if threading.activeCount() - activeThreads + 1 <= k+1:\n"
     ]
    },
    {
     "name": "stdout",
     "output_type": "stream",
     "text": [
      "fit\n"
     ]
    },
    {
     "name": "stderr",
     "output_type": "stream",
     "text": [
      "/var/folders/4m/1wz16rw93fx6w7w3zg7q2dm80000gn/T/ipykernel_15026/2207792410.py:20: DeprecationWarning: activeCount() is deprecated, use active_count() instead\n",
      "  if threading.activeCount() - activeThreads + 1 <= k+1:\n"
     ]
    },
    {
     "name": "stdout",
     "output_type": "stream",
     "text": [
      "Iterating on sample  27\n",
      "iteration  1\n",
      "linear 4.638194754505981 2.018593749252311\n"
     ]
    },
    {
     "name": "stderr",
     "output_type": "stream",
     "text": [
      "/var/folders/4m/1wz16rw93fx6w7w3zg7q2dm80000gn/T/ipykernel_15026/2207792410.py:20: DeprecationWarning: activeCount() is deprecated, use active_count() instead\n",
      "  if threading.activeCount() - activeThreads + 1 <= k+1:\n",
      "/var/folders/4m/1wz16rw93fx6w7w3zg7q2dm80000gn/T/ipykernel_15026/2207792410.py:20: DeprecationWarning: activeCount() is deprecated, use active_count() instead\n",
      "  if threading.activeCount() - activeThreads + 1 <= k+1:\n"
     ]
    },
    {
     "name": "stdout",
     "output_type": "stream",
     "text": [
      "fit\n",
      "iteration  2\n",
      "sigmoid 1.0185861184894074 1.3849952948486477\n"
     ]
    },
    {
     "name": "stderr",
     "output_type": "stream",
     "text": [
      "/var/folders/4m/1wz16rw93fx6w7w3zg7q2dm80000gn/T/ipykernel_15026/2207792410.py:20: DeprecationWarning: activeCount() is deprecated, use active_count() instead\n",
      "  if threading.activeCount() - activeThreads + 1 <= k+1:\n"
     ]
    },
    {
     "name": "stdout",
     "output_type": "stream",
     "text": [
      "fit\n"
     ]
    },
    {
     "name": "stderr",
     "output_type": "stream",
     "text": [
      "/var/folders/4m/1wz16rw93fx6w7w3zg7q2dm80000gn/T/ipykernel_15026/2207792410.py:20: DeprecationWarning: activeCount() is deprecated, use active_count() instead\n",
      "  if threading.activeCount() - activeThreads + 1 <= k+1:\n"
     ]
    },
    {
     "name": "stdout",
     "output_type": "stream",
     "text": [
      "Iterating on sample  28\n",
      "iteration  1\n",
      "sigmoid 0.470989168649788 3.5282818335099995\n"
     ]
    },
    {
     "name": "stderr",
     "output_type": "stream",
     "text": [
      "/var/folders/4m/1wz16rw93fx6w7w3zg7q2dm80000gn/T/ipykernel_15026/2207792410.py:20: DeprecationWarning: activeCount() is deprecated, use active_count() instead\n",
      "  if threading.activeCount() - activeThreads + 1 <= k+1:\n",
      "/var/folders/4m/1wz16rw93fx6w7w3zg7q2dm80000gn/T/ipykernel_15026/2207792410.py:20: DeprecationWarning: activeCount() is deprecated, use active_count() instead\n",
      "  if threading.activeCount() - activeThreads + 1 <= k+1:\n"
     ]
    },
    {
     "name": "stdout",
     "output_type": "stream",
     "text": [
      "fit\n",
      "iteration  2\n",
      "linear 8.444995493343718 4.895062269513144\n"
     ]
    },
    {
     "name": "stderr",
     "output_type": "stream",
     "text": [
      "/var/folders/4m/1wz16rw93fx6w7w3zg7q2dm80000gn/T/ipykernel_15026/2207792410.py:20: DeprecationWarning: activeCount() is deprecated, use active_count() instead\n",
      "  if threading.activeCount() - activeThreads + 1 <= k+1:\n"
     ]
    },
    {
     "name": "stdout",
     "output_type": "stream",
     "text": [
      "fit\n"
     ]
    },
    {
     "name": "stderr",
     "output_type": "stream",
     "text": [
      "/var/folders/4m/1wz16rw93fx6w7w3zg7q2dm80000gn/T/ipykernel_15026/2207792410.py:20: DeprecationWarning: activeCount() is deprecated, use active_count() instead\n",
      "  if threading.activeCount() - activeThreads + 1 <= k+1:\n",
      "/var/folders/4m/1wz16rw93fx6w7w3zg7q2dm80000gn/T/ipykernel_15026/2207792410.py:20: DeprecationWarning: activeCount() is deprecated, use active_count() instead\n",
      "  if threading.activeCount() - activeThreads + 1 <= k+1:\n"
     ]
    },
    {
     "name": "stdout",
     "output_type": "stream",
     "text": [
      "Iterating on sample  29\n",
      "iteration  1\n",
      "sigmoid 7.844553167777162 0.7677910412490885\n"
     ]
    },
    {
     "name": "stderr",
     "output_type": "stream",
     "text": [
      "/var/folders/4m/1wz16rw93fx6w7w3zg7q2dm80000gn/T/ipykernel_15026/2207792410.py:20: DeprecationWarning: activeCount() is deprecated, use active_count() instead\n",
      "  if threading.activeCount() - activeThreads + 1 <= k+1:\n"
     ]
    },
    {
     "name": "stdout",
     "output_type": "stream",
     "text": [
      "fit\n",
      "iteration  2\n",
      "rbf 0.07006285501614418 7.2452936578113345\n"
     ]
    },
    {
     "name": "stderr",
     "output_type": "stream",
     "text": [
      "/var/folders/4m/1wz16rw93fx6w7w3zg7q2dm80000gn/T/ipykernel_15026/2207792410.py:20: DeprecationWarning: activeCount() is deprecated, use active_count() instead\n",
      "  if threading.activeCount() - activeThreads + 1 <= k+1:\n"
     ]
    },
    {
     "name": "stdout",
     "output_type": "stream",
     "text": [
      "fit\n"
     ]
    },
    {
     "name": "stderr",
     "output_type": "stream",
     "text": [
      "/var/folders/4m/1wz16rw93fx6w7w3zg7q2dm80000gn/T/ipykernel_15026/2207792410.py:20: DeprecationWarning: activeCount() is deprecated, use active_count() instead\n",
      "  if threading.activeCount() - activeThreads + 1 <= k+1:\n"
     ]
    },
    {
     "name": "stdout",
     "output_type": "stream",
     "text": [
      "Iterating on sample  30\n",
      "iteration  1\n",
      "rbf 4.570573582667006 6.092796490054411\n"
     ]
    },
    {
     "name": "stderr",
     "output_type": "stream",
     "text": [
      "/var/folders/4m/1wz16rw93fx6w7w3zg7q2dm80000gn/T/ipykernel_15026/2207792410.py:20: DeprecationWarning: activeCount() is deprecated, use active_count() instead\n",
      "  if threading.activeCount() - activeThreads + 1 <= k+1:\n",
      "/var/folders/4m/1wz16rw93fx6w7w3zg7q2dm80000gn/T/ipykernel_15026/2207792410.py:20: DeprecationWarning: activeCount() is deprecated, use active_count() instead\n",
      "  if threading.activeCount() - activeThreads + 1 <= k+1:\n"
     ]
    },
    {
     "name": "stdout",
     "output_type": "stream",
     "text": [
      "fit\n"
     ]
    },
    {
     "name": "stderr",
     "output_type": "stream",
     "text": [
      "/var/folders/4m/1wz16rw93fx6w7w3zg7q2dm80000gn/T/ipykernel_15026/2207792410.py:20: DeprecationWarning: activeCount() is deprecated, use active_count() instead\n",
      "  if threading.activeCount() - activeThreads + 1 <= k+1:\n"
     ]
    },
    {
     "name": "stdout",
     "output_type": "stream",
     "text": [
      "iteration  2\n",
      "sigmoid 5.438346209392836 9.104575858090701\n"
     ]
    },
    {
     "name": "stderr",
     "output_type": "stream",
     "text": [
      "/var/folders/4m/1wz16rw93fx6w7w3zg7q2dm80000gn/T/ipykernel_15026/2207792410.py:20: DeprecationWarning: activeCount() is deprecated, use active_count() instead\n",
      "  if threading.activeCount() - activeThreads + 1 <= k+1:\n"
     ]
    },
    {
     "name": "stdout",
     "output_type": "stream",
     "text": [
      "fit\n"
     ]
    },
    {
     "name": "stderr",
     "output_type": "stream",
     "text": [
      "/var/folders/4m/1wz16rw93fx6w7w3zg7q2dm80000gn/T/ipykernel_15026/2207792410.py:20: DeprecationWarning: activeCount() is deprecated, use active_count() instead\n",
      "  if threading.activeCount() - activeThreads + 1 <= k+1:\n",
      "/var/folders/4m/1wz16rw93fx6w7w3zg7q2dm80000gn/T/ipykernel_15026/2207792410.py:20: DeprecationWarning: activeCount() is deprecated, use active_count() instead\n",
      "  if threading.activeCount() - activeThreads + 1 <= k+1:\n"
     ]
    },
    {
     "name": "stdout",
     "output_type": "stream",
     "text": [
      "Iterating on sample  31\n",
      "iteration  1\n",
      "linear 2.187896671827696 8.92345634771141\n"
     ]
    },
    {
     "name": "stderr",
     "output_type": "stream",
     "text": [
      "/var/folders/4m/1wz16rw93fx6w7w3zg7q2dm80000gn/T/ipykernel_15026/2207792410.py:20: DeprecationWarning: activeCount() is deprecated, use active_count() instead\n",
      "  if threading.activeCount() - activeThreads + 1 <= k+1:\n"
     ]
    },
    {
     "name": "stdout",
     "output_type": "stream",
     "text": [
      "fit\n"
     ]
    },
    {
     "name": "stderr",
     "output_type": "stream",
     "text": [
      "/var/folders/4m/1wz16rw93fx6w7w3zg7q2dm80000gn/T/ipykernel_15026/2207792410.py:20: DeprecationWarning: activeCount() is deprecated, use active_count() instead\n",
      "  if threading.activeCount() - activeThreads + 1 <= k+1:\n"
     ]
    },
    {
     "name": "stdout",
     "output_type": "stream",
     "text": [
      "iteration  2\n",
      "linear 5.242543556707597 4.244152020961515\n"
     ]
    },
    {
     "name": "stderr",
     "output_type": "stream",
     "text": [
      "/var/folders/4m/1wz16rw93fx6w7w3zg7q2dm80000gn/T/ipykernel_15026/2207792410.py:20: DeprecationWarning: activeCount() is deprecated, use active_count() instead\n",
      "  if threading.activeCount() - activeThreads + 1 <= k+1:\n"
     ]
    },
    {
     "name": "stdout",
     "output_type": "stream",
     "text": [
      "fit\n"
     ]
    },
    {
     "name": "stderr",
     "output_type": "stream",
     "text": [
      "/var/folders/4m/1wz16rw93fx6w7w3zg7q2dm80000gn/T/ipykernel_15026/2207792410.py:20: DeprecationWarning: activeCount() is deprecated, use active_count() instead\n",
      "  if threading.activeCount() - activeThreads + 1 <= k+1:\n"
     ]
    },
    {
     "name": "stdout",
     "output_type": "stream",
     "text": [
      "Iterating on sample  32\n",
      "iteration  1\n",
      "linear 9.021006226993304 9.683855965240838\n"
     ]
    },
    {
     "name": "stderr",
     "output_type": "stream",
     "text": [
      "/var/folders/4m/1wz16rw93fx6w7w3zg7q2dm80000gn/T/ipykernel_15026/2207792410.py:20: DeprecationWarning: activeCount() is deprecated, use active_count() instead\n",
      "  if threading.activeCount() - activeThreads + 1 <= k+1:\n",
      "/var/folders/4m/1wz16rw93fx6w7w3zg7q2dm80000gn/T/ipykernel_15026/2207792410.py:20: DeprecationWarning: activeCount() is deprecated, use active_count() instead\n",
      "  if threading.activeCount() - activeThreads + 1 <= k+1:\n"
     ]
    },
    {
     "name": "stdout",
     "output_type": "stream",
     "text": [
      "fit\n"
     ]
    },
    {
     "name": "stderr",
     "output_type": "stream",
     "text": [
      "/var/folders/4m/1wz16rw93fx6w7w3zg7q2dm80000gn/T/ipykernel_15026/2207792410.py:20: DeprecationWarning: activeCount() is deprecated, use active_count() instead\n",
      "  if threading.activeCount() - activeThreads + 1 <= k+1:\n"
     ]
    },
    {
     "name": "stdout",
     "output_type": "stream",
     "text": [
      "iteration  2\n",
      "sigmoid 1.1646993083312907 4.854939959633919\n"
     ]
    },
    {
     "name": "stderr",
     "output_type": "stream",
     "text": [
      "/var/folders/4m/1wz16rw93fx6w7w3zg7q2dm80000gn/T/ipykernel_15026/2207792410.py:20: DeprecationWarning: activeCount() is deprecated, use active_count() instead\n",
      "  if threading.activeCount() - activeThreads + 1 <= k+1:\n"
     ]
    },
    {
     "name": "stdout",
     "output_type": "stream",
     "text": [
      "fit\n"
     ]
    },
    {
     "name": "stderr",
     "output_type": "stream",
     "text": [
      "/var/folders/4m/1wz16rw93fx6w7w3zg7q2dm80000gn/T/ipykernel_15026/2207792410.py:20: DeprecationWarning: activeCount() is deprecated, use active_count() instead\n",
      "  if threading.activeCount() - activeThreads + 1 <= k+1:\n"
     ]
    },
    {
     "name": "stdout",
     "output_type": "stream",
     "text": [
      "Iterating on sample  33\n",
      "iteration  1\n",
      "sigmoid 0.48430246094008256 1.362300670690656\n"
     ]
    },
    {
     "name": "stderr",
     "output_type": "stream",
     "text": [
      "/var/folders/4m/1wz16rw93fx6w7w3zg7q2dm80000gn/T/ipykernel_15026/2207792410.py:20: DeprecationWarning: activeCount() is deprecated, use active_count() instead\n",
      "  if threading.activeCount() - activeThreads + 1 <= k+1:\n",
      "/var/folders/4m/1wz16rw93fx6w7w3zg7q2dm80000gn/T/ipykernel_15026/2207792410.py:20: DeprecationWarning: activeCount() is deprecated, use active_count() instead\n",
      "  if threading.activeCount() - activeThreads + 1 <= k+1:\n"
     ]
    },
    {
     "name": "stdout",
     "output_type": "stream",
     "text": [
      "fit\n",
      "iteration  2\n",
      "sigmoid 6.317383021941857 1.3693602759178847\n"
     ]
    },
    {
     "name": "stderr",
     "output_type": "stream",
     "text": [
      "/var/folders/4m/1wz16rw93fx6w7w3zg7q2dm80000gn/T/ipykernel_15026/2207792410.py:20: DeprecationWarning: activeCount() is deprecated, use active_count() instead\n",
      "  if threading.activeCount() - activeThreads + 1 <= k+1:\n"
     ]
    },
    {
     "name": "stdout",
     "output_type": "stream",
     "text": [
      "fit\n"
     ]
    },
    {
     "name": "stderr",
     "output_type": "stream",
     "text": [
      "/var/folders/4m/1wz16rw93fx6w7w3zg7q2dm80000gn/T/ipykernel_15026/2207792410.py:20: DeprecationWarning: activeCount() is deprecated, use active_count() instead\n",
      "  if threading.activeCount() - activeThreads + 1 <= k+1:\n"
     ]
    },
    {
     "name": "stdout",
     "output_type": "stream",
     "text": [
      "Iterating on sample  34\n",
      "iteration  1\n",
      "sigmoid 7.3495547607513645 6.621674960261225\n"
     ]
    },
    {
     "name": "stderr",
     "output_type": "stream",
     "text": [
      "/var/folders/4m/1wz16rw93fx6w7w3zg7q2dm80000gn/T/ipykernel_15026/2207792410.py:20: DeprecationWarning: activeCount() is deprecated, use active_count() instead\n",
      "  if threading.activeCount() - activeThreads + 1 <= k+1:\n",
      "/var/folders/4m/1wz16rw93fx6w7w3zg7q2dm80000gn/T/ipykernel_15026/2207792410.py:20: DeprecationWarning: activeCount() is deprecated, use active_count() instead\n",
      "  if threading.activeCount() - activeThreads + 1 <= k+1:\n"
     ]
    },
    {
     "name": "stdout",
     "output_type": "stream",
     "text": [
      "fit\n",
      "iteration  2\n",
      "rbf 9.975057941324 3.3688525733629247\n"
     ]
    },
    {
     "name": "stderr",
     "output_type": "stream",
     "text": [
      "/var/folders/4m/1wz16rw93fx6w7w3zg7q2dm80000gn/T/ipykernel_15026/2207792410.py:20: DeprecationWarning: activeCount() is deprecated, use active_count() instead\n",
      "  if threading.activeCount() - activeThreads + 1 <= k+1:\n"
     ]
    },
    {
     "name": "stdout",
     "output_type": "stream",
     "text": [
      "fit\n"
     ]
    },
    {
     "name": "stderr",
     "output_type": "stream",
     "text": [
      "/var/folders/4m/1wz16rw93fx6w7w3zg7q2dm80000gn/T/ipykernel_15026/2207792410.py:20: DeprecationWarning: activeCount() is deprecated, use active_count() instead\n",
      "  if threading.activeCount() - activeThreads + 1 <= k+1:\n"
     ]
    },
    {
     "name": "stdout",
     "output_type": "stream",
     "text": [
      "Iterating on sample  35\n",
      "iteration  1\n",
      "rbf 8.966642578465052 7.18650165393356\n"
     ]
    },
    {
     "name": "stderr",
     "output_type": "stream",
     "text": [
      "/var/folders/4m/1wz16rw93fx6w7w3zg7q2dm80000gn/T/ipykernel_15026/2207792410.py:20: DeprecationWarning: activeCount() is deprecated, use active_count() instead\n",
      "  if threading.activeCount() - activeThreads + 1 <= k+1:\n",
      "/var/folders/4m/1wz16rw93fx6w7w3zg7q2dm80000gn/T/ipykernel_15026/2207792410.py:20: DeprecationWarning: activeCount() is deprecated, use active_count() instead\n",
      "  if threading.activeCount() - activeThreads + 1 <= k+1:\n"
     ]
    },
    {
     "name": "stdout",
     "output_type": "stream",
     "text": [
      "fit\n"
     ]
    },
    {
     "name": "stderr",
     "output_type": "stream",
     "text": [
      "/var/folders/4m/1wz16rw93fx6w7w3zg7q2dm80000gn/T/ipykernel_15026/2207792410.py:20: DeprecationWarning: activeCount() is deprecated, use active_count() instead\n",
      "  if threading.activeCount() - activeThreads + 1 <= k+1:\n"
     ]
    },
    {
     "name": "stdout",
     "output_type": "stream",
     "text": [
      "iteration  2\n",
      "linear 0.4422899152216442 0.10157928936266325\n"
     ]
    },
    {
     "name": "stderr",
     "output_type": "stream",
     "text": [
      "/var/folders/4m/1wz16rw93fx6w7w3zg7q2dm80000gn/T/ipykernel_15026/2207792410.py:20: DeprecationWarning: activeCount() is deprecated, use active_count() instead\n",
      "  if threading.activeCount() - activeThreads + 1 <= k+1:\n"
     ]
    },
    {
     "name": "stdout",
     "output_type": "stream",
     "text": [
      "fit\n"
     ]
    },
    {
     "name": "stderr",
     "output_type": "stream",
     "text": [
      "/var/folders/4m/1wz16rw93fx6w7w3zg7q2dm80000gn/T/ipykernel_15026/2207792410.py:20: DeprecationWarning: activeCount() is deprecated, use active_count() instead\n",
      "  if threading.activeCount() - activeThreads + 1 <= k+1:\n",
      "/var/folders/4m/1wz16rw93fx6w7w3zg7q2dm80000gn/T/ipykernel_15026/2207792410.py:20: DeprecationWarning: activeCount() is deprecated, use active_count() instead\n",
      "  if threading.activeCount() - activeThreads + 1 <= k+1:\n"
     ]
    },
    {
     "name": "stdout",
     "output_type": "stream",
     "text": [
      "Iterating on sample  36\n",
      "iteration  1\n",
      "rbf 9.040072027137093 3.8323171001300094\n"
     ]
    },
    {
     "name": "stderr",
     "output_type": "stream",
     "text": [
      "/var/folders/4m/1wz16rw93fx6w7w3zg7q2dm80000gn/T/ipykernel_15026/2207792410.py:20: DeprecationWarning: activeCount() is deprecated, use active_count() instead\n",
      "  if threading.activeCount() - activeThreads + 1 <= k+1:\n"
     ]
    },
    {
     "name": "stdout",
     "output_type": "stream",
     "text": [
      "fit\n"
     ]
    },
    {
     "name": "stderr",
     "output_type": "stream",
     "text": [
      "/var/folders/4m/1wz16rw93fx6w7w3zg7q2dm80000gn/T/ipykernel_15026/2207792410.py:20: DeprecationWarning: activeCount() is deprecated, use active_count() instead\n",
      "  if threading.activeCount() - activeThreads + 1 <= k+1:\n"
     ]
    },
    {
     "name": "stdout",
     "output_type": "stream",
     "text": [
      "iteration  2\n",
      "sigmoid 4.452883302906306 5.703324520203996\n"
     ]
    },
    {
     "name": "stderr",
     "output_type": "stream",
     "text": [
      "/var/folders/4m/1wz16rw93fx6w7w3zg7q2dm80000gn/T/ipykernel_15026/2207792410.py:20: DeprecationWarning: activeCount() is deprecated, use active_count() instead\n",
      "  if threading.activeCount() - activeThreads + 1 <= k+1:\n"
     ]
    },
    {
     "name": "stdout",
     "output_type": "stream",
     "text": [
      "fit\n"
     ]
    },
    {
     "name": "stderr",
     "output_type": "stream",
     "text": [
      "/var/folders/4m/1wz16rw93fx6w7w3zg7q2dm80000gn/T/ipykernel_15026/2207792410.py:20: DeprecationWarning: activeCount() is deprecated, use active_count() instead\n",
      "  if threading.activeCount() - activeThreads + 1 <= k+1:\n"
     ]
    },
    {
     "name": "stdout",
     "output_type": "stream",
     "text": [
      "Iterating on sample  37\n",
      "iteration  1\n",
      "linear 2.3193555770441323 5.782046101941738\n"
     ]
    },
    {
     "name": "stderr",
     "output_type": "stream",
     "text": [
      "/var/folders/4m/1wz16rw93fx6w7w3zg7q2dm80000gn/T/ipykernel_15026/2207792410.py:20: DeprecationWarning: activeCount() is deprecated, use active_count() instead\n",
      "  if threading.activeCount() - activeThreads + 1 <= k+1:\n",
      "/var/folders/4m/1wz16rw93fx6w7w3zg7q2dm80000gn/T/ipykernel_15026/2207792410.py:20: DeprecationWarning: activeCount() is deprecated, use active_count() instead\n",
      "  if threading.activeCount() - activeThreads + 1 <= k+1:\n"
     ]
    },
    {
     "name": "stdout",
     "output_type": "stream",
     "text": [
      "fit\n"
     ]
    },
    {
     "name": "stderr",
     "output_type": "stream",
     "text": [
      "/var/folders/4m/1wz16rw93fx6w7w3zg7q2dm80000gn/T/ipykernel_15026/2207792410.py:20: DeprecationWarning: activeCount() is deprecated, use active_count() instead\n",
      "  if threading.activeCount() - activeThreads + 1 <= k+1:\n"
     ]
    },
    {
     "name": "stdout",
     "output_type": "stream",
     "text": [
      "iteration  2\n",
      "sigmoid 8.836534948737052 1.78094974563764\n"
     ]
    },
    {
     "name": "stderr",
     "output_type": "stream",
     "text": [
      "/var/folders/4m/1wz16rw93fx6w7w3zg7q2dm80000gn/T/ipykernel_15026/2207792410.py:20: DeprecationWarning: activeCount() is deprecated, use active_count() instead\n",
      "  if threading.activeCount() - activeThreads + 1 <= k+1:\n"
     ]
    },
    {
     "name": "stdout",
     "output_type": "stream",
     "text": [
      "fit\n"
     ]
    },
    {
     "name": "stderr",
     "output_type": "stream",
     "text": [
      "/var/folders/4m/1wz16rw93fx6w7w3zg7q2dm80000gn/T/ipykernel_15026/2207792410.py:20: DeprecationWarning: activeCount() is deprecated, use active_count() instead\n",
      "  if threading.activeCount() - activeThreads + 1 <= k+1:\n"
     ]
    },
    {
     "name": "stdout",
     "output_type": "stream",
     "text": [
      "Iterating on sample  38\n",
      "iteration  1\n",
      "rbf 1.7135320217763506 3.842392827871186\n"
     ]
    },
    {
     "name": "stderr",
     "output_type": "stream",
     "text": [
      "/var/folders/4m/1wz16rw93fx6w7w3zg7q2dm80000gn/T/ipykernel_15026/2207792410.py:20: DeprecationWarning: activeCount() is deprecated, use active_count() instead\n",
      "  if threading.activeCount() - activeThreads + 1 <= k+1:\n",
      "/var/folders/4m/1wz16rw93fx6w7w3zg7q2dm80000gn/T/ipykernel_15026/2207792410.py:20: DeprecationWarning: activeCount() is deprecated, use active_count() instead\n",
      "  if threading.activeCount() - activeThreads + 1 <= k+1:\n"
     ]
    },
    {
     "name": "stdout",
     "output_type": "stream",
     "text": [
      "fit\n"
     ]
    },
    {
     "name": "stderr",
     "output_type": "stream",
     "text": [
      "/var/folders/4m/1wz16rw93fx6w7w3zg7q2dm80000gn/T/ipykernel_15026/2207792410.py:20: DeprecationWarning: activeCount() is deprecated, use active_count() instead\n",
      "  if threading.activeCount() - activeThreads + 1 <= k+1:\n"
     ]
    },
    {
     "name": "stdout",
     "output_type": "stream",
     "text": [
      "iteration  2\n",
      "rbf 6.605071273621603 4.212875828681452\n"
     ]
    },
    {
     "name": "stderr",
     "output_type": "stream",
     "text": [
      "/var/folders/4m/1wz16rw93fx6w7w3zg7q2dm80000gn/T/ipykernel_15026/2207792410.py:20: DeprecationWarning: activeCount() is deprecated, use active_count() instead\n",
      "  if threading.activeCount() - activeThreads + 1 <= k+1:\n"
     ]
    },
    {
     "name": "stdout",
     "output_type": "stream",
     "text": [
      "fit\n"
     ]
    },
    {
     "name": "stderr",
     "output_type": "stream",
     "text": [
      "/var/folders/4m/1wz16rw93fx6w7w3zg7q2dm80000gn/T/ipykernel_15026/2207792410.py:20: DeprecationWarning: activeCount() is deprecated, use active_count() instead\n",
      "  if threading.activeCount() - activeThreads + 1 <= k+1:\n"
     ]
    },
    {
     "name": "stdout",
     "output_type": "stream",
     "text": [
      "Iterating on sample  39\n",
      "iteration  1\n",
      "linear 0.8159599119431016 4.462829614734879\n"
     ]
    },
    {
     "name": "stderr",
     "output_type": "stream",
     "text": [
      "/var/folders/4m/1wz16rw93fx6w7w3zg7q2dm80000gn/T/ipykernel_15026/2207792410.py:20: DeprecationWarning: activeCount() is deprecated, use active_count() instead\n",
      "  if threading.activeCount() - activeThreads + 1 <= k+1:\n",
      "/var/folders/4m/1wz16rw93fx6w7w3zg7q2dm80000gn/T/ipykernel_15026/2207792410.py:20: DeprecationWarning: activeCount() is deprecated, use active_count() instead\n",
      "  if threading.activeCount() - activeThreads + 1 <= k+1:\n"
     ]
    },
    {
     "name": "stdout",
     "output_type": "stream",
     "text": [
      "fit\n"
     ]
    },
    {
     "name": "stderr",
     "output_type": "stream",
     "text": [
      "/var/folders/4m/1wz16rw93fx6w7w3zg7q2dm80000gn/T/ipykernel_15026/2207792410.py:20: DeprecationWarning: activeCount() is deprecated, use active_count() instead\n",
      "  if threading.activeCount() - activeThreads + 1 <= k+1:\n"
     ]
    },
    {
     "name": "stdout",
     "output_type": "stream",
     "text": [
      "iteration  2\n",
      "linear 5.64697253461031 9.595515946890846\n"
     ]
    },
    {
     "name": "stderr",
     "output_type": "stream",
     "text": [
      "/var/folders/4m/1wz16rw93fx6w7w3zg7q2dm80000gn/T/ipykernel_15026/2207792410.py:20: DeprecationWarning: activeCount() is deprecated, use active_count() instead\n",
      "  if threading.activeCount() - activeThreads + 1 <= k+1:\n"
     ]
    },
    {
     "name": "stdout",
     "output_type": "stream",
     "text": [
      "fit\n"
     ]
    },
    {
     "name": "stderr",
     "output_type": "stream",
     "text": [
      "/var/folders/4m/1wz16rw93fx6w7w3zg7q2dm80000gn/T/ipykernel_15026/2207792410.py:20: DeprecationWarning: activeCount() is deprecated, use active_count() instead\n",
      "  if threading.activeCount() - activeThreads + 1 <= k+1:\n"
     ]
    },
    {
     "name": "stdout",
     "output_type": "stream",
     "text": [
      "Iterating on sample  40\n",
      "iteration  1\n",
      "rbf 3.6641517222537754 0.9552553526542173\n"
     ]
    },
    {
     "name": "stderr",
     "output_type": "stream",
     "text": [
      "/var/folders/4m/1wz16rw93fx6w7w3zg7q2dm80000gn/T/ipykernel_15026/2207792410.py:20: DeprecationWarning: activeCount() is deprecated, use active_count() instead\n",
      "  if threading.activeCount() - activeThreads + 1 <= k+1:\n",
      "/var/folders/4m/1wz16rw93fx6w7w3zg7q2dm80000gn/T/ipykernel_15026/2207792410.py:20: DeprecationWarning: activeCount() is deprecated, use active_count() instead\n",
      "  if threading.activeCount() - activeThreads + 1 <= k+1:\n"
     ]
    },
    {
     "name": "stdout",
     "output_type": "stream",
     "text": [
      "fit\n"
     ]
    },
    {
     "name": "stderr",
     "output_type": "stream",
     "text": [
      "/var/folders/4m/1wz16rw93fx6w7w3zg7q2dm80000gn/T/ipykernel_15026/2207792410.py:20: DeprecationWarning: activeCount() is deprecated, use active_count() instead\n",
      "  if threading.activeCount() - activeThreads + 1 <= k+1:\n"
     ]
    },
    {
     "name": "stdout",
     "output_type": "stream",
     "text": [
      "iteration  2\n",
      "rbf 7.268410294432339 8.949244955252812\n"
     ]
    },
    {
     "name": "stderr",
     "output_type": "stream",
     "text": [
      "/var/folders/4m/1wz16rw93fx6w7w3zg7q2dm80000gn/T/ipykernel_15026/2207792410.py:20: DeprecationWarning: activeCount() is deprecated, use active_count() instead\n",
      "  if threading.activeCount() - activeThreads + 1 <= k+1:\n"
     ]
    },
    {
     "name": "stdout",
     "output_type": "stream",
     "text": [
      "fit\n"
     ]
    },
    {
     "name": "stderr",
     "output_type": "stream",
     "text": [
      "/var/folders/4m/1wz16rw93fx6w7w3zg7q2dm80000gn/T/ipykernel_15026/2207792410.py:20: DeprecationWarning: activeCount() is deprecated, use active_count() instead\n",
      "  if threading.activeCount() - activeThreads + 1 <= k+1:\n",
      "/var/folders/4m/1wz16rw93fx6w7w3zg7q2dm80000gn/T/ipykernel_15026/2207792410.py:26: DeprecationWarning: activeCount() is deprecated, use active_count() instead\n",
      "  if threading.activeCount() == activeThreads:\n",
      "/var/folders/4m/1wz16rw93fx6w7w3zg7q2dm80000gn/T/ipykernel_15026/2207792410.py:10: DeprecationWarning: activeCount() is deprecated, use active_count() instead\n",
      "  activeThreads = threading.activeCount()\n",
      "/var/folders/4m/1wz16rw93fx6w7w3zg7q2dm80000gn/T/ipykernel_15026/2207792410.py:20: DeprecationWarning: activeCount() is deprecated, use active_count() instead\n",
      "  if threading.activeCount() - activeThreads + 1 <= k+1:\n",
      "/var/folders/4m/1wz16rw93fx6w7w3zg7q2dm80000gn/T/ipykernel_15026/2207792410.py:20: DeprecationWarning: activeCount() is deprecated, use active_count() instead\n",
      "  if threading.activeCount() - activeThreads + 1 <= k+1:\n"
     ]
    },
    {
     "name": "stdout",
     "output_type": "stream",
     "text": [
      "Iterating on sample  1\n",
      "iteration  1\n",
      "sigmoid 8.609023843257976 4.598325580251154\n",
      "Iterating on sample  2\n",
      "iteration  1\n",
      "rbf 3.080651704662344 4.8015420516738505\n"
     ]
    },
    {
     "name": "stderr",
     "output_type": "stream",
     "text": [
      "/var/folders/4m/1wz16rw93fx6w7w3zg7q2dm80000gn/T/ipykernel_15026/2207792410.py:20: DeprecationWarning: activeCount() is deprecated, use active_count() instead\n",
      "  if threading.activeCount() - activeThreads + 1 <= k+1:\n"
     ]
    },
    {
     "name": "stdout",
     "output_type": "stream",
     "text": [
      "fit\n",
      "iteration  2\n",
      "sigmoid 6.935978563994957 3.406912719952796\n"
     ]
    },
    {
     "name": "stderr",
     "output_type": "stream",
     "text": [
      "/var/folders/4m/1wz16rw93fx6w7w3zg7q2dm80000gn/T/ipykernel_15026/2207792410.py:20: DeprecationWarning: activeCount() is deprecated, use active_count() instead\n",
      "  if threading.activeCount() - activeThreads + 1 <= k+1:\n"
     ]
    },
    {
     "name": "stdout",
     "output_type": "stream",
     "text": [
      "fit\n",
      "fit\n"
     ]
    },
    {
     "name": "stderr",
     "output_type": "stream",
     "text": [
      "/var/folders/4m/1wz16rw93fx6w7w3zg7q2dm80000gn/T/ipykernel_15026/2207792410.py:20: DeprecationWarning: activeCount() is deprecated, use active_count() instead\n",
      "  if threading.activeCount() - activeThreads + 1 <= k+1:\n",
      "/var/folders/4m/1wz16rw93fx6w7w3zg7q2dm80000gn/T/ipykernel_15026/2207792410.py:20: DeprecationWarning: activeCount() is deprecated, use active_count() instead\n",
      "  if threading.activeCount() - activeThreads + 1 <= k+1:\n"
     ]
    },
    {
     "name": "stdout",
     "output_type": "stream",
     "text": [
      "Iterating on sample  3\n",
      "iteration  1\n",
      "linear 1.1182026406921475 8.366360035337069\n",
      "iteration  2\n",
      "rbf 0.3673003882005166 5.535552017883383\n"
     ]
    },
    {
     "name": "stderr",
     "output_type": "stream",
     "text": [
      "/var/folders/4m/1wz16rw93fx6w7w3zg7q2dm80000gn/T/ipykernel_15026/2207792410.py:20: DeprecationWarning: activeCount() is deprecated, use active_count() instead\n",
      "  if threading.activeCount() - activeThreads + 1 <= k+1:\n"
     ]
    },
    {
     "name": "stdout",
     "output_type": "stream",
     "text": [
      "fit\n"
     ]
    },
    {
     "name": "stderr",
     "output_type": "stream",
     "text": [
      "/var/folders/4m/1wz16rw93fx6w7w3zg7q2dm80000gn/T/ipykernel_15026/2207792410.py:20: DeprecationWarning: activeCount() is deprecated, use active_count() instead\n",
      "  if threading.activeCount() - activeThreads + 1 <= k+1:\n"
     ]
    },
    {
     "name": "stdout",
     "output_type": "stream",
     "text": [
      "iteration  2\n",
      "rbf 5.517932140241508 8.042734034518404\n"
     ]
    },
    {
     "name": "stderr",
     "output_type": "stream",
     "text": [
      "/var/folders/4m/1wz16rw93fx6w7w3zg7q2dm80000gn/T/ipykernel_15026/2207792410.py:20: DeprecationWarning: activeCount() is deprecated, use active_count() instead\n",
      "  if threading.activeCount() - activeThreads + 1 <= k+1:\n"
     ]
    },
    {
     "name": "stdout",
     "output_type": "stream",
     "text": [
      "fit\n"
     ]
    },
    {
     "name": "stderr",
     "output_type": "stream",
     "text": [
      "/var/folders/4m/1wz16rw93fx6w7w3zg7q2dm80000gn/T/ipykernel_15026/2207792410.py:20: DeprecationWarning: activeCount() is deprecated, use active_count() instead\n",
      "  if threading.activeCount() - activeThreads + 1 <= k+1:\n"
     ]
    },
    {
     "name": "stdout",
     "output_type": "stream",
     "text": [
      "Iterating on sample  4\n",
      "iteration  1\n",
      "sigmoid 2.748246319823684 5.941732363285061\n",
      "fit\n"
     ]
    },
    {
     "name": "stderr",
     "output_type": "stream",
     "text": [
      "/var/folders/4m/1wz16rw93fx6w7w3zg7q2dm80000gn/T/ipykernel_15026/2207792410.py:20: DeprecationWarning: activeCount() is deprecated, use active_count() instead\n",
      "  if threading.activeCount() - activeThreads + 1 <= k+1:\n",
      "/var/folders/4m/1wz16rw93fx6w7w3zg7q2dm80000gn/T/ipykernel_15026/2207792410.py:20: DeprecationWarning: activeCount() is deprecated, use active_count() instead\n",
      "  if threading.activeCount() - activeThreads + 1 <= k+1:\n"
     ]
    },
    {
     "name": "stdout",
     "output_type": "stream",
     "text": [
      "fit\n",
      "iteration  2\n",
      "sigmoid 4.842150865573856 9.828450438088481\n",
      "Iterating on sample  5\n",
      "iteration  1\n",
      "rbf 8.11903815901988 5.485050072316401\n"
     ]
    },
    {
     "name": "stderr",
     "output_type": "stream",
     "text": [
      "/var/folders/4m/1wz16rw93fx6w7w3zg7q2dm80000gn/T/ipykernel_15026/2207792410.py:20: DeprecationWarning: activeCount() is deprecated, use active_count() instead\n",
      "  if threading.activeCount() - activeThreads + 1 <= k+1:\n",
      "/var/folders/4m/1wz16rw93fx6w7w3zg7q2dm80000gn/T/ipykernel_15026/2207792410.py:20: DeprecationWarning: activeCount() is deprecated, use active_count() instead\n",
      "  if threading.activeCount() - activeThreads + 1 <= k+1:\n"
     ]
    },
    {
     "name": "stdout",
     "output_type": "stream",
     "text": [
      "fit\n"
     ]
    },
    {
     "name": "stderr",
     "output_type": "stream",
     "text": [
      "/var/folders/4m/1wz16rw93fx6w7w3zg7q2dm80000gn/T/ipykernel_15026/2207792410.py:20: DeprecationWarning: activeCount() is deprecated, use active_count() instead\n",
      "  if threading.activeCount() - activeThreads + 1 <= k+1:\n"
     ]
    },
    {
     "name": "stdout",
     "output_type": "stream",
     "text": [
      "Iterating on sample  6\n",
      "iteration  1\n",
      "rbf 8.131971822175977 1.2770778116307668\n"
     ]
    },
    {
     "name": "stderr",
     "output_type": "stream",
     "text": [
      "/var/folders/4m/1wz16rw93fx6w7w3zg7q2dm80000gn/T/ipykernel_15026/2207792410.py:20: DeprecationWarning: activeCount() is deprecated, use active_count() instead\n",
      "  if threading.activeCount() - activeThreads + 1 <= k+1:\n",
      "/var/folders/4m/1wz16rw93fx6w7w3zg7q2dm80000gn/T/ipykernel_15026/2207792410.py:20: DeprecationWarning: activeCount() is deprecated, use active_count() instead\n",
      "  if threading.activeCount() - activeThreads + 1 <= k+1:\n"
     ]
    },
    {
     "name": "stdout",
     "output_type": "stream",
     "text": [
      "fit\n"
     ]
    },
    {
     "name": "stderr",
     "output_type": "stream",
     "text": [
      "/var/folders/4m/1wz16rw93fx6w7w3zg7q2dm80000gn/T/ipykernel_15026/2207792410.py:20: DeprecationWarning: activeCount() is deprecated, use active_count() instead\n",
      "  if threading.activeCount() - activeThreads + 1 <= k+1:\n"
     ]
    },
    {
     "name": "stdout",
     "output_type": "stream",
     "text": [
      "iteration  2\n",
      "rbf 5.752776763393406 6.5564030514426\n"
     ]
    },
    {
     "name": "stderr",
     "output_type": "stream",
     "text": [
      "/var/folders/4m/1wz16rw93fx6w7w3zg7q2dm80000gn/T/ipykernel_15026/2207792410.py:20: DeprecationWarning: activeCount() is deprecated, use active_count() instead\n",
      "  if threading.activeCount() - activeThreads + 1 <= k+1:\n"
     ]
    },
    {
     "name": "stdout",
     "output_type": "stream",
     "text": [
      "fit\n"
     ]
    },
    {
     "name": "stderr",
     "output_type": "stream",
     "text": [
      "/var/folders/4m/1wz16rw93fx6w7w3zg7q2dm80000gn/T/ipykernel_15026/2207792410.py:20: DeprecationWarning: activeCount() is deprecated, use active_count() instead\n",
      "  if threading.activeCount() - activeThreads + 1 <= k+1:\n"
     ]
    },
    {
     "name": "stdout",
     "output_type": "stream",
     "text": [
      "iteration  2\n",
      "rbf 0.61975302698415 0.35250984223315185\n"
     ]
    },
    {
     "name": "stderr",
     "output_type": "stream",
     "text": [
      "/var/folders/4m/1wz16rw93fx6w7w3zg7q2dm80000gn/T/ipykernel_15026/2207792410.py:20: DeprecationWarning: activeCount() is deprecated, use active_count() instead\n",
      "  if threading.activeCount() - activeThreads + 1 <= k+1:\n"
     ]
    },
    {
     "name": "stdout",
     "output_type": "stream",
     "text": [
      "fit\n",
      "fit\n"
     ]
    },
    {
     "name": "stderr",
     "output_type": "stream",
     "text": [
      "/var/folders/4m/1wz16rw93fx6w7w3zg7q2dm80000gn/T/ipykernel_15026/2207792410.py:20: DeprecationWarning: activeCount() is deprecated, use active_count() instead\n",
      "  if threading.activeCount() - activeThreads + 1 <= k+1:\n"
     ]
    },
    {
     "name": "stdout",
     "output_type": "stream",
     "text": [
      "Iterating on sample  7\n",
      "iteration  1\n",
      "sigmoid 2.248207060335994 8.528112853696193\n",
      "Iterating on sample  8\n",
      "iteration  1\n",
      "linear 1.989646741436174 4.497212469074528\n"
     ]
    },
    {
     "name": "stderr",
     "output_type": "stream",
     "text": [
      "/var/folders/4m/1wz16rw93fx6w7w3zg7q2dm80000gn/T/ipykernel_15026/2207792410.py:20: DeprecationWarning: activeCount() is deprecated, use active_count() instead\n",
      "  if threading.activeCount() - activeThreads + 1 <= k+1:\n",
      "/var/folders/4m/1wz16rw93fx6w7w3zg7q2dm80000gn/T/ipykernel_15026/2207792410.py:20: DeprecationWarning: activeCount() is deprecated, use active_count() instead\n",
      "  if threading.activeCount() - activeThreads + 1 <= k+1:\n",
      "/var/folders/4m/1wz16rw93fx6w7w3zg7q2dm80000gn/T/ipykernel_15026/2207792410.py:20: DeprecationWarning: activeCount() is deprecated, use active_count() instead\n",
      "  if threading.activeCount() - activeThreads + 1 <= k+1:\n"
     ]
    },
    {
     "name": "stdout",
     "output_type": "stream",
     "text": [
      "fit\n",
      "iteration  2\n",
      "linear 7.968395985463985 0.1933700243495451\n"
     ]
    },
    {
     "name": "stderr",
     "output_type": "stream",
     "text": [
      "/var/folders/4m/1wz16rw93fx6w7w3zg7q2dm80000gn/T/ipykernel_15026/2207792410.py:20: DeprecationWarning: activeCount() is deprecated, use active_count() instead\n",
      "  if threading.activeCount() - activeThreads + 1 <= k+1:\n"
     ]
    },
    {
     "name": "stdout",
     "output_type": "stream",
     "text": [
      "fit\n",
      "iteration  2\n",
      "sigmoid 9.620403375797805 3.6229194886441163\n"
     ]
    },
    {
     "name": "stderr",
     "output_type": "stream",
     "text": [
      "/var/folders/4m/1wz16rw93fx6w7w3zg7q2dm80000gn/T/ipykernel_15026/2207792410.py:20: DeprecationWarning: activeCount() is deprecated, use active_count() instead\n",
      "  if threading.activeCount() - activeThreads + 1 <= k+1:\n"
     ]
    },
    {
     "name": "stdout",
     "output_type": "stream",
     "text": [
      "fit\n"
     ]
    },
    {
     "name": "stderr",
     "output_type": "stream",
     "text": [
      "/var/folders/4m/1wz16rw93fx6w7w3zg7q2dm80000gn/T/ipykernel_15026/2207792410.py:20: DeprecationWarning: activeCount() is deprecated, use active_count() instead\n",
      "  if threading.activeCount() - activeThreads + 1 <= k+1:\n",
      "/var/folders/4m/1wz16rw93fx6w7w3zg7q2dm80000gn/T/ipykernel_15026/2207792410.py:20: DeprecationWarning: activeCount() is deprecated, use active_count() instead\n",
      "  if threading.activeCount() - activeThreads + 1 <= k+1:\n"
     ]
    },
    {
     "name": "stdout",
     "output_type": "stream",
     "text": [
      "Iterating on sample  9\n",
      "iteration  1\n",
      "sigmoid 7.99946887230325 2.202543856253003\n"
     ]
    },
    {
     "name": "stderr",
     "output_type": "stream",
     "text": [
      "/var/folders/4m/1wz16rw93fx6w7w3zg7q2dm80000gn/T/ipykernel_15026/2207792410.py:20: DeprecationWarning: activeCount() is deprecated, use active_count() instead\n",
      "  if threading.activeCount() - activeThreads + 1 <= k+1:\n"
     ]
    },
    {
     "name": "stdout",
     "output_type": "stream",
     "text": [
      "fit\n",
      "iteration  2\n",
      "rbf 5.172801340186865 1.6696763550483384\n"
     ]
    },
    {
     "name": "stderr",
     "output_type": "stream",
     "text": [
      "/var/folders/4m/1wz16rw93fx6w7w3zg7q2dm80000gn/T/ipykernel_15026/2207792410.py:20: DeprecationWarning: activeCount() is deprecated, use active_count() instead\n",
      "  if threading.activeCount() - activeThreads + 1 <= k+1:\n"
     ]
    },
    {
     "name": "stdout",
     "output_type": "stream",
     "text": [
      "fit\n"
     ]
    },
    {
     "name": "stderr",
     "output_type": "stream",
     "text": [
      "/var/folders/4m/1wz16rw93fx6w7w3zg7q2dm80000gn/T/ipykernel_15026/2207792410.py:20: DeprecationWarning: activeCount() is deprecated, use active_count() instead\n",
      "  if threading.activeCount() - activeThreads + 1 <= k+1:\n"
     ]
    },
    {
     "name": "stdout",
     "output_type": "stream",
     "text": [
      "Iterating on sample  10\n",
      "iteration  1\n",
      "sigmoid 5.604692626411808 9.802041716637756\n"
     ]
    },
    {
     "name": "stderr",
     "output_type": "stream",
     "text": [
      "/var/folders/4m/1wz16rw93fx6w7w3zg7q2dm80000gn/T/ipykernel_15026/2207792410.py:20: DeprecationWarning: activeCount() is deprecated, use active_count() instead\n",
      "  if threading.activeCount() - activeThreads + 1 <= k+1:\n"
     ]
    },
    {
     "name": "stdout",
     "output_type": "stream",
     "text": [
      "fit\n"
     ]
    },
    {
     "name": "stderr",
     "output_type": "stream",
     "text": [
      "/var/folders/4m/1wz16rw93fx6w7w3zg7q2dm80000gn/T/ipykernel_15026/2207792410.py:20: DeprecationWarning: activeCount() is deprecated, use active_count() instead\n",
      "  if threading.activeCount() - activeThreads + 1 <= k+1:\n"
     ]
    },
    {
     "name": "stdout",
     "output_type": "stream",
     "text": [
      "fit\n",
      "iteration  2\n",
      "linear 2.1966357568884067 5.957419550526954\n"
     ]
    },
    {
     "name": "stderr",
     "output_type": "stream",
     "text": [
      "/var/folders/4m/1wz16rw93fx6w7w3zg7q2dm80000gn/T/ipykernel_15026/2207792410.py:20: DeprecationWarning: activeCount() is deprecated, use active_count() instead\n",
      "  if threading.activeCount() - activeThreads + 1 <= k+1:\n"
     ]
    },
    {
     "name": "stdout",
     "output_type": "stream",
     "text": [
      "Iterating on sample  11\n",
      "iteration  1\n",
      "sigmoid 7.855341864273915 8.152137726317083\n"
     ]
    },
    {
     "name": "stderr",
     "output_type": "stream",
     "text": [
      "/var/folders/4m/1wz16rw93fx6w7w3zg7q2dm80000gn/T/ipykernel_15026/2207792410.py:20: DeprecationWarning: activeCount() is deprecated, use active_count() instead\n",
      "  if threading.activeCount() - activeThreads + 1 <= k+1:\n",
      "/var/folders/4m/1wz16rw93fx6w7w3zg7q2dm80000gn/T/ipykernel_15026/2207792410.py:20: DeprecationWarning: activeCount() is deprecated, use active_count() instead\n",
      "  if threading.activeCount() - activeThreads + 1 <= k+1:\n"
     ]
    },
    {
     "name": "stdout",
     "output_type": "stream",
     "text": [
      "fit\n",
      "fit\n",
      "iteration  2\n",
      "rbf 5.245461337569932 5.684120514756684\n",
      "Iterating on sample  12\n",
      "iteration  1\n",
      "linear 1.600698105366365 4.8098812379928315\n"
     ]
    },
    {
     "name": "stderr",
     "output_type": "stream",
     "text": [
      "/var/folders/4m/1wz16rw93fx6w7w3zg7q2dm80000gn/T/ipykernel_15026/2207792410.py:20: DeprecationWarning: activeCount() is deprecated, use active_count() instead\n",
      "  if threading.activeCount() - activeThreads + 1 <= k+1:\n",
      "/var/folders/4m/1wz16rw93fx6w7w3zg7q2dm80000gn/T/ipykernel_15026/2207792410.py:20: DeprecationWarning: activeCount() is deprecated, use active_count() instead\n",
      "  if threading.activeCount() - activeThreads + 1 <= k+1:\n",
      "/var/folders/4m/1wz16rw93fx6w7w3zg7q2dm80000gn/T/ipykernel_15026/2207792410.py:20: DeprecationWarning: activeCount() is deprecated, use active_count() instead\n",
      "  if threading.activeCount() - activeThreads + 1 <= k+1:\n"
     ]
    },
    {
     "name": "stdout",
     "output_type": "stream",
     "text": [
      "fit\n",
      "iteration  2\n",
      "rbf 5.635971914320623 7.864171293718586\n"
     ]
    },
    {
     "name": "stderr",
     "output_type": "stream",
     "text": [
      "/var/folders/4m/1wz16rw93fx6w7w3zg7q2dm80000gn/T/ipykernel_15026/2207792410.py:20: DeprecationWarning: activeCount() is deprecated, use active_count() instead\n",
      "  if threading.activeCount() - activeThreads + 1 <= k+1:\n"
     ]
    },
    {
     "name": "stdout",
     "output_type": "stream",
     "text": [
      "fit\n"
     ]
    },
    {
     "name": "stderr",
     "output_type": "stream",
     "text": [
      "/var/folders/4m/1wz16rw93fx6w7w3zg7q2dm80000gn/T/ipykernel_15026/2207792410.py:20: DeprecationWarning: activeCount() is deprecated, use active_count() instead\n",
      "  if threading.activeCount() - activeThreads + 1 <= k+1:\n"
     ]
    },
    {
     "name": "stdout",
     "output_type": "stream",
     "text": [
      "Iterating on sample  13\n",
      "iteration  1\n",
      "linear 3.751881227379914 1.1518212261124006\n"
     ]
    },
    {
     "name": "stderr",
     "output_type": "stream",
     "text": [
      "/var/folders/4m/1wz16rw93fx6w7w3zg7q2dm80000gn/T/ipykernel_15026/2207792410.py:20: DeprecationWarning: activeCount() is deprecated, use active_count() instead\n",
      "  if threading.activeCount() - activeThreads + 1 <= k+1:\n",
      "/var/folders/4m/1wz16rw93fx6w7w3zg7q2dm80000gn/T/ipykernel_15026/2207792410.py:20: DeprecationWarning: activeCount() is deprecated, use active_count() instead\n",
      "  if threading.activeCount() - activeThreads + 1 <= k+1:\n"
     ]
    },
    {
     "name": "stdout",
     "output_type": "stream",
     "text": [
      "fit\n"
     ]
    },
    {
     "name": "stderr",
     "output_type": "stream",
     "text": [
      "/var/folders/4m/1wz16rw93fx6w7w3zg7q2dm80000gn/T/ipykernel_15026/2207792410.py:20: DeprecationWarning: activeCount() is deprecated, use active_count() instead\n",
      "  if threading.activeCount() - activeThreads + 1 <= k+1:\n"
     ]
    },
    {
     "name": "stdout",
     "output_type": "stream",
     "text": [
      "Iterating on sample  14\n",
      "iteration  1\n",
      "linear 2.16412020914426 9.749953936410293\n"
     ]
    },
    {
     "name": "stderr",
     "output_type": "stream",
     "text": [
      "/var/folders/4m/1wz16rw93fx6w7w3zg7q2dm80000gn/T/ipykernel_15026/2207792410.py:20: DeprecationWarning: activeCount() is deprecated, use active_count() instead\n",
      "  if threading.activeCount() - activeThreads + 1 <= k+1:\n"
     ]
    },
    {
     "name": "stdout",
     "output_type": "stream",
     "text": [
      "fit\n"
     ]
    },
    {
     "name": "stderr",
     "output_type": "stream",
     "text": [
      "/var/folders/4m/1wz16rw93fx6w7w3zg7q2dm80000gn/T/ipykernel_15026/2207792410.py:20: DeprecationWarning: activeCount() is deprecated, use active_count() instead\n",
      "  if threading.activeCount() - activeThreads + 1 <= k+1:\n"
     ]
    },
    {
     "name": "stdout",
     "output_type": "stream",
     "text": [
      "iteration  2\n",
      "sigmoid 6.905619105806016 4.56039631234905\n"
     ]
    },
    {
     "name": "stderr",
     "output_type": "stream",
     "text": [
      "/var/folders/4m/1wz16rw93fx6w7w3zg7q2dm80000gn/T/ipykernel_15026/2207792410.py:20: DeprecationWarning: activeCount() is deprecated, use active_count() instead\n",
      "  if threading.activeCount() - activeThreads + 1 <= k+1:\n"
     ]
    },
    {
     "name": "stdout",
     "output_type": "stream",
     "text": [
      "fit\n",
      "fit\n"
     ]
    },
    {
     "name": "stderr",
     "output_type": "stream",
     "text": [
      "/var/folders/4m/1wz16rw93fx6w7w3zg7q2dm80000gn/T/ipykernel_15026/2207792410.py:20: DeprecationWarning: activeCount() is deprecated, use active_count() instead\n",
      "  if threading.activeCount() - activeThreads + 1 <= k+1:\n",
      "/var/folders/4m/1wz16rw93fx6w7w3zg7q2dm80000gn/T/ipykernel_15026/2207792410.py:20: DeprecationWarning: activeCount() is deprecated, use active_count() instead\n",
      "  if threading.activeCount() - activeThreads + 1 <= k+1:\n"
     ]
    },
    {
     "name": "stdout",
     "output_type": "stream",
     "text": [
      "Iterating on sample  15\n",
      "iteration  1\n",
      "linear 0.17177519014513698 8.711389640610149\n",
      "iteration  2\n",
      "sigmoid 8.203762539865002 8.579168347117061\n",
      "fit\n"
     ]
    },
    {
     "name": "stderr",
     "output_type": "stream",
     "text": [
      "/var/folders/4m/1wz16rw93fx6w7w3zg7q2dm80000gn/T/ipykernel_15026/2207792410.py:20: DeprecationWarning: activeCount() is deprecated, use active_count() instead\n",
      "  if threading.activeCount() - activeThreads + 1 <= k+1:\n"
     ]
    },
    {
     "name": "stdout",
     "output_type": "stream",
     "text": [
      "fit\n",
      "iteration  2\n",
      "rbf 7.24771784591923 8.08764356361501\n"
     ]
    },
    {
     "name": "stderr",
     "output_type": "stream",
     "text": [
      "/var/folders/4m/1wz16rw93fx6w7w3zg7q2dm80000gn/T/ipykernel_15026/2207792410.py:20: DeprecationWarning: activeCount() is deprecated, use active_count() instead\n",
      "  if threading.activeCount() - activeThreads + 1 <= k+1:\n",
      "/var/folders/4m/1wz16rw93fx6w7w3zg7q2dm80000gn/T/ipykernel_15026/2207792410.py:20: DeprecationWarning: activeCount() is deprecated, use active_count() instead\n",
      "  if threading.activeCount() - activeThreads + 1 <= k+1:\n"
     ]
    },
    {
     "name": "stdout",
     "output_type": "stream",
     "text": [
      "Iterating on sample  16\n",
      "iteration  1\n",
      "linear 4.523285629831491 1.689908077052591\n"
     ]
    },
    {
     "name": "stderr",
     "output_type": "stream",
     "text": [
      "/var/folders/4m/1wz16rw93fx6w7w3zg7q2dm80000gn/T/ipykernel_15026/2207792410.py:20: DeprecationWarning: activeCount() is deprecated, use active_count() instead\n",
      "  if threading.activeCount() - activeThreads + 1 <= k+1:\n"
     ]
    },
    {
     "name": "stdout",
     "output_type": "stream",
     "text": [
      "fit\n",
      "fit\n"
     ]
    },
    {
     "name": "stderr",
     "output_type": "stream",
     "text": [
      "/var/folders/4m/1wz16rw93fx6w7w3zg7q2dm80000gn/T/ipykernel_15026/2207792410.py:20: DeprecationWarning: activeCount() is deprecated, use active_count() instead\n",
      "  if threading.activeCount() - activeThreads + 1 <= k+1:\n"
     ]
    },
    {
     "name": "stdout",
     "output_type": "stream",
     "text": [
      "iteration  2\n",
      "sigmoid 4.921256013850557 9.981559891374747\n"
     ]
    },
    {
     "name": "stderr",
     "output_type": "stream",
     "text": [
      "/var/folders/4m/1wz16rw93fx6w7w3zg7q2dm80000gn/T/ipykernel_15026/2207792410.py:20: DeprecationWarning: activeCount() is deprecated, use active_count() instead\n",
      "  if threading.activeCount() - activeThreads + 1 <= k+1:\n",
      "/var/folders/4m/1wz16rw93fx6w7w3zg7q2dm80000gn/T/ipykernel_15026/2207792410.py:20: DeprecationWarning: activeCount() is deprecated, use active_count() instead\n",
      "  if threading.activeCount() - activeThreads + 1 <= k+1:\n"
     ]
    },
    {
     "name": "stdout",
     "output_type": "stream",
     "text": [
      "Iterating on sample  17\n",
      "iteration  1\n",
      "linear 1.6164195847171825 8.771480946141539\n",
      "fit\n"
     ]
    },
    {
     "name": "stderr",
     "output_type": "stream",
     "text": [
      "/var/folders/4m/1wz16rw93fx6w7w3zg7q2dm80000gn/T/ipykernel_15026/2207792410.py:20: DeprecationWarning: activeCount() is deprecated, use active_count() instead\n",
      "  if threading.activeCount() - activeThreads + 1 <= k+1:\n"
     ]
    },
    {
     "name": "stdout",
     "output_type": "stream",
     "text": [
      "Iterating on sample  18\n",
      "iteration  1\n",
      "rbf 4.230948627127585 9.192940127725635\n",
      "fit\n"
     ]
    },
    {
     "name": "stderr",
     "output_type": "stream",
     "text": [
      "/var/folders/4m/1wz16rw93fx6w7w3zg7q2dm80000gn/T/ipykernel_15026/2207792410.py:20: DeprecationWarning: activeCount() is deprecated, use active_count() instead\n",
      "  if threading.activeCount() - activeThreads + 1 <= k+1:\n"
     ]
    },
    {
     "name": "stdout",
     "output_type": "stream",
     "text": [
      "iteration  2\n",
      "linear 5.444012311717328 8.200830126956236\n"
     ]
    },
    {
     "name": "stderr",
     "output_type": "stream",
     "text": [
      "/var/folders/4m/1wz16rw93fx6w7w3zg7q2dm80000gn/T/ipykernel_15026/2207792410.py:20: DeprecationWarning: activeCount() is deprecated, use active_count() instead\n",
      "  if threading.activeCount() - activeThreads + 1 <= k+1:\n"
     ]
    },
    {
     "name": "stdout",
     "output_type": "stream",
     "text": [
      "fit\n"
     ]
    },
    {
     "name": "stderr",
     "output_type": "stream",
     "text": [
      "/var/folders/4m/1wz16rw93fx6w7w3zg7q2dm80000gn/T/ipykernel_15026/2207792410.py:20: DeprecationWarning: activeCount() is deprecated, use active_count() instead\n",
      "  if threading.activeCount() - activeThreads + 1 <= k+1:\n"
     ]
    },
    {
     "name": "stdout",
     "output_type": "stream",
     "text": [
      "fit\n",
      "iteration  2\n",
      "linear 1.4546171899515725 9.006883077944991\n"
     ]
    },
    {
     "name": "stderr",
     "output_type": "stream",
     "text": [
      "/var/folders/4m/1wz16rw93fx6w7w3zg7q2dm80000gn/T/ipykernel_15026/2207792410.py:20: DeprecationWarning: activeCount() is deprecated, use active_count() instead\n",
      "  if threading.activeCount() - activeThreads + 1 <= k+1:\n",
      "/var/folders/4m/1wz16rw93fx6w7w3zg7q2dm80000gn/T/ipykernel_15026/2207792410.py:20: DeprecationWarning: activeCount() is deprecated, use active_count() instead\n",
      "  if threading.activeCount() - activeThreads + 1 <= k+1:\n"
     ]
    },
    {
     "name": "stdout",
     "output_type": "stream",
     "text": [
      "Iterating on sample  19\n",
      "iteration  1\n",
      "linear 0.995248438827876 1.4222057467407578\n"
     ]
    },
    {
     "name": "stderr",
     "output_type": "stream",
     "text": [
      "/var/folders/4m/1wz16rw93fx6w7w3zg7q2dm80000gn/T/ipykernel_15026/2207792410.py:20: DeprecationWarning: activeCount() is deprecated, use active_count() instead\n",
      "  if threading.activeCount() - activeThreads + 1 <= k+1:\n"
     ]
    },
    {
     "name": "stdout",
     "output_type": "stream",
     "text": [
      "fit\n",
      "fit\n"
     ]
    },
    {
     "name": "stderr",
     "output_type": "stream",
     "text": [
      "/var/folders/4m/1wz16rw93fx6w7w3zg7q2dm80000gn/T/ipykernel_15026/2207792410.py:20: DeprecationWarning: activeCount() is deprecated, use active_count() instead\n",
      "  if threading.activeCount() - activeThreads + 1 <= k+1:\n"
     ]
    },
    {
     "name": "stdout",
     "output_type": "stream",
     "text": [
      "iteration  2\n",
      "rbf 2.965772575317488 8.677126495349132\n"
     ]
    },
    {
     "name": "stderr",
     "output_type": "stream",
     "text": [
      "/var/folders/4m/1wz16rw93fx6w7w3zg7q2dm80000gn/T/ipykernel_15026/2207792410.py:20: DeprecationWarning: activeCount() is deprecated, use active_count() instead\n",
      "  if threading.activeCount() - activeThreads + 1 <= k+1:\n",
      "/var/folders/4m/1wz16rw93fx6w7w3zg7q2dm80000gn/T/ipykernel_15026/2207792410.py:20: DeprecationWarning: activeCount() is deprecated, use active_count() instead\n",
      "  if threading.activeCount() - activeThreads + 1 <= k+1:\n"
     ]
    },
    {
     "name": "stdout",
     "output_type": "stream",
     "text": [
      "Iterating on sample  20\n",
      "iteration  1\n",
      "linear 9.48228129302707 1.4390246722166422\n"
     ]
    },
    {
     "name": "stderr",
     "output_type": "stream",
     "text": [
      "/var/folders/4m/1wz16rw93fx6w7w3zg7q2dm80000gn/T/ipykernel_15026/2207792410.py:20: DeprecationWarning: activeCount() is deprecated, use active_count() instead\n",
      "  if threading.activeCount() - activeThreads + 1 <= k+1:\n"
     ]
    },
    {
     "name": "stdout",
     "output_type": "stream",
     "text": [
      "fit\n"
     ]
    },
    {
     "name": "stderr",
     "output_type": "stream",
     "text": [
      "/var/folders/4m/1wz16rw93fx6w7w3zg7q2dm80000gn/T/ipykernel_15026/2207792410.py:20: DeprecationWarning: activeCount() is deprecated, use active_count() instead\n",
      "  if threading.activeCount() - activeThreads + 1 <= k+1:\n"
     ]
    },
    {
     "name": "stdout",
     "output_type": "stream",
     "text": [
      "Iterating on sample  21\n",
      "iteration  1\n",
      "sigmoid 6.642749133584696 1.7592911563305602\n"
     ]
    },
    {
     "name": "stderr",
     "output_type": "stream",
     "text": [
      "/var/folders/4m/1wz16rw93fx6w7w3zg7q2dm80000gn/T/ipykernel_15026/2207792410.py:20: DeprecationWarning: activeCount() is deprecated, use active_count() instead\n",
      "  if threading.activeCount() - activeThreads + 1 <= k+1:\n",
      "/var/folders/4m/1wz16rw93fx6w7w3zg7q2dm80000gn/T/ipykernel_15026/2207792410.py:20: DeprecationWarning: activeCount() is deprecated, use active_count() instead\n",
      "  if threading.activeCount() - activeThreads + 1 <= k+1:\n"
     ]
    },
    {
     "name": "stdout",
     "output_type": "stream",
     "text": [
      "fit\n",
      "fit\n",
      "iteration  2\n",
      "rbf 2.5537039832154673 2.0024714090059827\n"
     ]
    },
    {
     "name": "stderr",
     "output_type": "stream",
     "text": [
      "/var/folders/4m/1wz16rw93fx6w7w3zg7q2dm80000gn/T/ipykernel_15026/2207792410.py:20: DeprecationWarning: activeCount() is deprecated, use active_count() instead\n",
      "  if threading.activeCount() - activeThreads + 1 <= k+1:\n"
     ]
    },
    {
     "name": "stdout",
     "output_type": "stream",
     "text": [
      "iteration  2\n",
      "rbf 3.9382810560951285 7.9275093362985185\n"
     ]
    },
    {
     "name": "stderr",
     "output_type": "stream",
     "text": [
      "/var/folders/4m/1wz16rw93fx6w7w3zg7q2dm80000gn/T/ipykernel_15026/2207792410.py:20: DeprecationWarning: activeCount() is deprecated, use active_count() instead\n",
      "  if threading.activeCount() - activeThreads + 1 <= k+1:\n"
     ]
    },
    {
     "name": "stdout",
     "output_type": "stream",
     "text": [
      "fit\n"
     ]
    },
    {
     "name": "stderr",
     "output_type": "stream",
     "text": [
      "/var/folders/4m/1wz16rw93fx6w7w3zg7q2dm80000gn/T/ipykernel_15026/2207792410.py:20: DeprecationWarning: activeCount() is deprecated, use active_count() instead\n",
      "  if threading.activeCount() - activeThreads + 1 <= k+1:\n"
     ]
    },
    {
     "name": "stdout",
     "output_type": "stream",
     "text": [
      "fit\n"
     ]
    },
    {
     "name": "stderr",
     "output_type": "stream",
     "text": [
      "/var/folders/4m/1wz16rw93fx6w7w3zg7q2dm80000gn/T/ipykernel_15026/2207792410.py:20: DeprecationWarning: activeCount() is deprecated, use active_count() instead\n",
      "  if threading.activeCount() - activeThreads + 1 <= k+1:\n",
      "/var/folders/4m/1wz16rw93fx6w7w3zg7q2dm80000gn/T/ipykernel_15026/2207792410.py:20: DeprecationWarning: activeCount() is deprecated, use active_count() instead\n",
      "  if threading.activeCount() - activeThreads + 1 <= k+1:\n"
     ]
    },
    {
     "name": "stdout",
     "output_type": "stream",
     "text": [
      "Iterating on sample  22\n",
      "iteration  1\n",
      "linear 4.5697422990265055 1.5137065738752986\n"
     ]
    },
    {
     "name": "stderr",
     "output_type": "stream",
     "text": [
      "/var/folders/4m/1wz16rw93fx6w7w3zg7q2dm80000gn/T/ipykernel_15026/2207792410.py:20: DeprecationWarning: activeCount() is deprecated, use active_count() instead\n",
      "  if threading.activeCount() - activeThreads + 1 <= k+1:\n",
      "/var/folders/4m/1wz16rw93fx6w7w3zg7q2dm80000gn/T/ipykernel_15026/2207792410.py:20: DeprecationWarning: activeCount() is deprecated, use active_count() instead\n",
      "  if threading.activeCount() - activeThreads + 1 <= k+1:\n"
     ]
    },
    {
     "name": "stdout",
     "output_type": "stream",
     "text": [
      "Iterating on sample  23\n",
      "iteration  1\n",
      "rbf 5.517097337863755 3.1562893703946218\n"
     ]
    },
    {
     "name": "stderr",
     "output_type": "stream",
     "text": [
      "/var/folders/4m/1wz16rw93fx6w7w3zg7q2dm80000gn/T/ipykernel_15026/2207792410.py:20: DeprecationWarning: activeCount() is deprecated, use active_count() instead\n",
      "  if threading.activeCount() - activeThreads + 1 <= k+1:\n"
     ]
    },
    {
     "name": "stdout",
     "output_type": "stream",
     "text": [
      "fit\n"
     ]
    },
    {
     "name": "stderr",
     "output_type": "stream",
     "text": [
      "/var/folders/4m/1wz16rw93fx6w7w3zg7q2dm80000gn/T/ipykernel_15026/2207792410.py:20: DeprecationWarning: activeCount() is deprecated, use active_count() instead\n",
      "  if threading.activeCount() - activeThreads + 1 <= k+1:\n"
     ]
    },
    {
     "name": "stdout",
     "output_type": "stream",
     "text": [
      "fit\n",
      "iteration  2\n",
      "rbf 1.033440825883949 3.1477021431470242\n"
     ]
    },
    {
     "name": "stderr",
     "output_type": "stream",
     "text": [
      "/var/folders/4m/1wz16rw93fx6w7w3zg7q2dm80000gn/T/ipykernel_15026/2207792410.py:20: DeprecationWarning: activeCount() is deprecated, use active_count() instead\n",
      "  if threading.activeCount() - activeThreads + 1 <= k+1:\n"
     ]
    },
    {
     "name": "stdout",
     "output_type": "stream",
     "text": [
      "iteration  2\n",
      "sigmoid 8.041969738751082 1.0568239131703638\n"
     ]
    },
    {
     "name": "stderr",
     "output_type": "stream",
     "text": [
      "/var/folders/4m/1wz16rw93fx6w7w3zg7q2dm80000gn/T/ipykernel_15026/2207792410.py:20: DeprecationWarning: activeCount() is deprecated, use active_count() instead\n",
      "  if threading.activeCount() - activeThreads + 1 <= k+1:\n"
     ]
    },
    {
     "name": "stdout",
     "output_type": "stream",
     "text": [
      "fit\n"
     ]
    },
    {
     "name": "stderr",
     "output_type": "stream",
     "text": [
      "/var/folders/4m/1wz16rw93fx6w7w3zg7q2dm80000gn/T/ipykernel_15026/2207792410.py:20: DeprecationWarning: activeCount() is deprecated, use active_count() instead\n",
      "  if threading.activeCount() - activeThreads + 1 <= k+1:\n"
     ]
    },
    {
     "name": "stdout",
     "output_type": "stream",
     "text": [
      "fit\n"
     ]
    },
    {
     "name": "stderr",
     "output_type": "stream",
     "text": [
      "/var/folders/4m/1wz16rw93fx6w7w3zg7q2dm80000gn/T/ipykernel_15026/2207792410.py:20: DeprecationWarning: activeCount() is deprecated, use active_count() instead\n",
      "  if threading.activeCount() - activeThreads + 1 <= k+1:\n",
      "/var/folders/4m/1wz16rw93fx6w7w3zg7q2dm80000gn/T/ipykernel_15026/2207792410.py:20: DeprecationWarning: activeCount() is deprecated, use active_count() instead\n",
      "  if threading.activeCount() - activeThreads + 1 <= k+1:\n"
     ]
    },
    {
     "name": "stdout",
     "output_type": "stream",
     "text": [
      "Iterating on sample  24\n",
      "iteration  1\n",
      "rbf 0.7267630430447869 2.619072518393073\n"
     ]
    },
    {
     "name": "stderr",
     "output_type": "stream",
     "text": [
      "/var/folders/4m/1wz16rw93fx6w7w3zg7q2dm80000gn/T/ipykernel_15026/2207792410.py:20: DeprecationWarning: activeCount() is deprecated, use active_count() instead\n",
      "  if threading.activeCount() - activeThreads + 1 <= k+1:\n"
     ]
    },
    {
     "name": "stdout",
     "output_type": "stream",
     "text": [
      "Iterating on sample  25\n",
      "iteration  1\n",
      "linear 3.633432409311852 2.4485460425639003\n"
     ]
    },
    {
     "name": "stderr",
     "output_type": "stream",
     "text": [
      "/var/folders/4m/1wz16rw93fx6w7w3zg7q2dm80000gn/T/ipykernel_15026/2207792410.py:20: DeprecationWarning: activeCount() is deprecated, use active_count() instead\n",
      "  if threading.activeCount() - activeThreads + 1 <= k+1:\n"
     ]
    },
    {
     "name": "stdout",
     "output_type": "stream",
     "text": [
      "fit\n"
     ]
    },
    {
     "name": "stderr",
     "output_type": "stream",
     "text": [
      "/var/folders/4m/1wz16rw93fx6w7w3zg7q2dm80000gn/T/ipykernel_15026/2207792410.py:20: DeprecationWarning: activeCount() is deprecated, use active_count() instead\n",
      "  if threading.activeCount() - activeThreads + 1 <= k+1:\n"
     ]
    },
    {
     "name": "stdout",
     "output_type": "stream",
     "text": [
      "iteration  2\n",
      "rbf 1.5926955887392802 6.026663310321211\n"
     ]
    },
    {
     "name": "stderr",
     "output_type": "stream",
     "text": [
      "/var/folders/4m/1wz16rw93fx6w7w3zg7q2dm80000gn/T/ipykernel_15026/2207792410.py:20: DeprecationWarning: activeCount() is deprecated, use active_count() instead\n",
      "  if threading.activeCount() - activeThreads + 1 <= k+1:\n"
     ]
    },
    {
     "name": "stdout",
     "output_type": "stream",
     "text": [
      "fit\n"
     ]
    },
    {
     "name": "stderr",
     "output_type": "stream",
     "text": [
      "/var/folders/4m/1wz16rw93fx6w7w3zg7q2dm80000gn/T/ipykernel_15026/2207792410.py:20: DeprecationWarning: activeCount() is deprecated, use active_count() instead\n",
      "  if threading.activeCount() - activeThreads + 1 <= k+1:\n"
     ]
    },
    {
     "name": "stdout",
     "output_type": "stream",
     "text": [
      "iteration  2\n",
      "linear 3.7520329234595993 3.1514380146306764\n"
     ]
    },
    {
     "name": "stderr",
     "output_type": "stream",
     "text": [
      "/var/folders/4m/1wz16rw93fx6w7w3zg7q2dm80000gn/T/ipykernel_15026/2207792410.py:20: DeprecationWarning: activeCount() is deprecated, use active_count() instead\n",
      "  if threading.activeCount() - activeThreads + 1 <= k+1:\n"
     ]
    },
    {
     "name": "stdout",
     "output_type": "stream",
     "text": [
      "fit\n"
     ]
    },
    {
     "name": "stderr",
     "output_type": "stream",
     "text": [
      "/var/folders/4m/1wz16rw93fx6w7w3zg7q2dm80000gn/T/ipykernel_15026/2207792410.py:20: DeprecationWarning: activeCount() is deprecated, use active_count() instead\n",
      "  if threading.activeCount() - activeThreads + 1 <= k+1:\n"
     ]
    },
    {
     "name": "stdout",
     "output_type": "stream",
     "text": [
      "fit\n"
     ]
    },
    {
     "name": "stderr",
     "output_type": "stream",
     "text": [
      "/var/folders/4m/1wz16rw93fx6w7w3zg7q2dm80000gn/T/ipykernel_15026/2207792410.py:20: DeprecationWarning: activeCount() is deprecated, use active_count() instead\n",
      "  if threading.activeCount() - activeThreads + 1 <= k+1:\n",
      "/var/folders/4m/1wz16rw93fx6w7w3zg7q2dm80000gn/T/ipykernel_15026/2207792410.py:20: DeprecationWarning: activeCount() is deprecated, use active_count() instead\n",
      "  if threading.activeCount() - activeThreads + 1 <= k+1:\n"
     ]
    },
    {
     "name": "stdout",
     "output_type": "stream",
     "text": [
      "Iterating on sample  26\n",
      "iteration  1\n",
      "rbf 9.30028648729792 4.196043263074594\n"
     ]
    },
    {
     "name": "stderr",
     "output_type": "stream",
     "text": [
      "/var/folders/4m/1wz16rw93fx6w7w3zg7q2dm80000gn/T/ipykernel_15026/2207792410.py:20: DeprecationWarning: activeCount() is deprecated, use active_count() instead\n",
      "  if threading.activeCount() - activeThreads + 1 <= k+1:\n",
      "/var/folders/4m/1wz16rw93fx6w7w3zg7q2dm80000gn/T/ipykernel_15026/2207792410.py:20: DeprecationWarning: activeCount() is deprecated, use active_count() instead\n",
      "  if threading.activeCount() - activeThreads + 1 <= k+1:\n"
     ]
    },
    {
     "name": "stdout",
     "output_type": "stream",
     "text": [
      "Iterating on sample  27\n",
      "iteration  1\n",
      "sigmoid 7.437453950395811 7.516843069188791\n"
     ]
    },
    {
     "name": "stderr",
     "output_type": "stream",
     "text": [
      "/var/folders/4m/1wz16rw93fx6w7w3zg7q2dm80000gn/T/ipykernel_15026/2207792410.py:20: DeprecationWarning: activeCount() is deprecated, use active_count() instead\n",
      "  if threading.activeCount() - activeThreads + 1 <= k+1:\n"
     ]
    },
    {
     "name": "stdout",
     "output_type": "stream",
     "text": [
      "fit\n",
      "iteration  2\n",
      "rbf 7.023889141808652 9.283075990785198\n"
     ]
    },
    {
     "name": "stderr",
     "output_type": "stream",
     "text": [
      "/var/folders/4m/1wz16rw93fx6w7w3zg7q2dm80000gn/T/ipykernel_15026/2207792410.py:20: DeprecationWarning: activeCount() is deprecated, use active_count() instead\n",
      "  if threading.activeCount() - activeThreads + 1 <= k+1:\n"
     ]
    },
    {
     "name": "stdout",
     "output_type": "stream",
     "text": [
      "fit\n"
     ]
    },
    {
     "name": "stderr",
     "output_type": "stream",
     "text": [
      "/var/folders/4m/1wz16rw93fx6w7w3zg7q2dm80000gn/T/ipykernel_15026/2207792410.py:20: DeprecationWarning: activeCount() is deprecated, use active_count() instead\n",
      "  if threading.activeCount() - activeThreads + 1 <= k+1:\n"
     ]
    },
    {
     "name": "stdout",
     "output_type": "stream",
     "text": [
      "iteration  2\n",
      "sigmoid 5.055682233936035 6.441915951251507\n"
     ]
    },
    {
     "name": "stderr",
     "output_type": "stream",
     "text": [
      "/var/folders/4m/1wz16rw93fx6w7w3zg7q2dm80000gn/T/ipykernel_15026/2207792410.py:20: DeprecationWarning: activeCount() is deprecated, use active_count() instead\n",
      "  if threading.activeCount() - activeThreads + 1 <= k+1:\n"
     ]
    },
    {
     "name": "stdout",
     "output_type": "stream",
     "text": [
      "fit\n"
     ]
    },
    {
     "name": "stderr",
     "output_type": "stream",
     "text": [
      "/var/folders/4m/1wz16rw93fx6w7w3zg7q2dm80000gn/T/ipykernel_15026/2207792410.py:20: DeprecationWarning: activeCount() is deprecated, use active_count() instead\n",
      "  if threading.activeCount() - activeThreads + 1 <= k+1:\n"
     ]
    },
    {
     "name": "stdout",
     "output_type": "stream",
     "text": [
      "fit\n"
     ]
    },
    {
     "name": "stderr",
     "output_type": "stream",
     "text": [
      "/var/folders/4m/1wz16rw93fx6w7w3zg7q2dm80000gn/T/ipykernel_15026/2207792410.py:20: DeprecationWarning: activeCount() is deprecated, use active_count() instead\n",
      "  if threading.activeCount() - activeThreads + 1 <= k+1:\n",
      "/var/folders/4m/1wz16rw93fx6w7w3zg7q2dm80000gn/T/ipykernel_15026/2207792410.py:20: DeprecationWarning: activeCount() is deprecated, use active_count() instead\n",
      "  if threading.activeCount() - activeThreads + 1 <= k+1:\n"
     ]
    },
    {
     "name": "stdout",
     "output_type": "stream",
     "text": [
      "Iterating on sample  28\n",
      "iteration  1\n",
      "linear 3.7120859618243207 4.37022214024068\n"
     ]
    },
    {
     "name": "stderr",
     "output_type": "stream",
     "text": [
      "/var/folders/4m/1wz16rw93fx6w7w3zg7q2dm80000gn/T/ipykernel_15026/2207792410.py:20: DeprecationWarning: activeCount() is deprecated, use active_count() instead\n",
      "  if threading.activeCount() - activeThreads + 1 <= k+1:\n"
     ]
    },
    {
     "name": "stdout",
     "output_type": "stream",
     "text": [
      "Iterating on sample  29\n",
      "iteration  1\n",
      "rbf 9.97134090343973 9.74520103904063\n"
     ]
    },
    {
     "name": "stderr",
     "output_type": "stream",
     "text": [
      "/var/folders/4m/1wz16rw93fx6w7w3zg7q2dm80000gn/T/ipykernel_15026/2207792410.py:20: DeprecationWarning: activeCount() is deprecated, use active_count() instead\n",
      "  if threading.activeCount() - activeThreads + 1 <= k+1:\n",
      "/var/folders/4m/1wz16rw93fx6w7w3zg7q2dm80000gn/T/ipykernel_15026/2207792410.py:20: DeprecationWarning: activeCount() is deprecated, use active_count() instead\n",
      "  if threading.activeCount() - activeThreads + 1 <= k+1:\n"
     ]
    },
    {
     "name": "stdout",
     "output_type": "stream",
     "text": [
      "fit\n"
     ]
    },
    {
     "name": "stderr",
     "output_type": "stream",
     "text": [
      "/var/folders/4m/1wz16rw93fx6w7w3zg7q2dm80000gn/T/ipykernel_15026/2207792410.py:20: DeprecationWarning: activeCount() is deprecated, use active_count() instead\n",
      "  if threading.activeCount() - activeThreads + 1 <= k+1:\n"
     ]
    },
    {
     "name": "stdout",
     "output_type": "stream",
     "text": [
      "iteration  2\n",
      "sigmoid 0.2958416225973892 3.3772877640614785\n"
     ]
    },
    {
     "name": "stderr",
     "output_type": "stream",
     "text": [
      "/var/folders/4m/1wz16rw93fx6w7w3zg7q2dm80000gn/T/ipykernel_15026/2207792410.py:20: DeprecationWarning: activeCount() is deprecated, use active_count() instead\n",
      "  if threading.activeCount() - activeThreads + 1 <= k+1:\n"
     ]
    },
    {
     "name": "stdout",
     "output_type": "stream",
     "text": [
      "fit\n"
     ]
    },
    {
     "name": "stderr",
     "output_type": "stream",
     "text": [
      "/var/folders/4m/1wz16rw93fx6w7w3zg7q2dm80000gn/T/ipykernel_15026/2207792410.py:20: DeprecationWarning: activeCount() is deprecated, use active_count() instead\n",
      "  if threading.activeCount() - activeThreads + 1 <= k+1:\n",
      "/var/folders/4m/1wz16rw93fx6w7w3zg7q2dm80000gn/T/ipykernel_15026/2207792410.py:20: DeprecationWarning: activeCount() is deprecated, use active_count() instead\n",
      "  if threading.activeCount() - activeThreads + 1 <= k+1:\n"
     ]
    },
    {
     "name": "stdout",
     "output_type": "stream",
     "text": [
      "Iterating on sample  30\n",
      "iteration  1\n",
      "sigmoid 8.696889845916056 6.087416554087196\n",
      "fit\n"
     ]
    },
    {
     "name": "stderr",
     "output_type": "stream",
     "text": [
      "/var/folders/4m/1wz16rw93fx6w7w3zg7q2dm80000gn/T/ipykernel_15026/2207792410.py:20: DeprecationWarning: activeCount() is deprecated, use active_count() instead\n",
      "  if threading.activeCount() - activeThreads + 1 <= k+1:\n"
     ]
    },
    {
     "name": "stdout",
     "output_type": "stream",
     "text": [
      "fit\n",
      "iteration  2\n",
      "linear 1.5027673605255176 0.3132108398213096\n",
      "iteration  2\n",
      "rbf 6.146803280843781 3.1808454781208884\n"
     ]
    },
    {
     "name": "stderr",
     "output_type": "stream",
     "text": [
      "/var/folders/4m/1wz16rw93fx6w7w3zg7q2dm80000gn/T/ipykernel_15026/2207792410.py:20: DeprecationWarning: activeCount() is deprecated, use active_count() instead\n",
      "  if threading.activeCount() - activeThreads + 1 <= k+1:\n"
     ]
    }
   ],
   "source": [
    "nsamples = 40\n",
    "\n",
    "times20=[]\n",
    "times40=[]\n",
    "numberOfThreads = 4\n",
    "activeThreads = threading.activeCount()\n",
    "\n",
    "for k in range(numberOfThreads):\n",
    "    starttime=time.time()\n",
    "    activeThreads = threading.activeCount()\n",
    "    for i in range(nsamples):\n",
    "        \n",
    "        \n",
    "        cmd=samples[i]\n",
    "    \n",
    "        print(\"Iterating on sample \", i+1)\n",
    "        t = threading.Thread(target=task , args=(cmd,))\n",
    "        t.start()\n",
    "        while True:\n",
    "            if threading.activeCount() - activeThreads + 1 <= k+1:\n",
    "               break\n",
    "            time.sleep(1)\n",
    "        if(i==20):\n",
    "            times20.append(time.time()-starttime)\n",
    "    while True:\n",
    "       if threading.activeCount() == activeThreads:\n",
    "        break\n",
    "       else:\n",
    "        print (\"    Thread still running (left %d)...\"%(threading.activeCount() - activeThreads))\n",
    "        time.sleep(1)\n",
    "  \n",
    "      \n",
    "        \n",
    "    times40.append(time.time()-starttime)    \n",
    "    accuracies2.append(accuracies) \n",
    "        \n",
    "print(\"Done iterating!\\n\")"
   ]
  },
  {
   "cell_type": "code",
   "execution_count": 37,
   "metadata": {},
   "outputs": [
    {
     "name": "stdout",
     "output_type": "stream",
     "text": [
      "[157.7319211959839, 77.3786871433258, 58.272552251815796, 51.43043398857117]\n"
     ]
    }
   ],
   "source": [
    "print(times20)"
   ]
  },
  {
   "cell_type": "code",
   "execution_count": 38,
   "metadata": {},
   "outputs": [
    {
     "name": "stdout",
     "output_type": "stream",
     "text": [
      "[302.42833828926086, 154.76295018196106, 413.27800035476685, 96.77807188034058]\n"
     ]
    }
   ],
   "source": [
    "print(times40)"
   ]
  }
 ],
 "metadata": {
  "kernelspec": {
   "display_name": "Python 3",
   "language": "python",
   "name": "python3"
  },
  "language_info": {
   "codemirror_mode": {
    "name": "ipython",
    "version": 3
   },
   "file_extension": ".py",
   "mimetype": "text/x-python",
   "name": "python",
   "nbconvert_exporter": "python",
   "pygments_lexer": "ipython3",
   "version": "3.10.10"
  },
  "orig_nbformat": 4
 },
 "nbformat": 4,
 "nbformat_minor": 2
}
